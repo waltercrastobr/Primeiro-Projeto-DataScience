{
 "cells": [
  {
   "cell_type": "markdown",
   "id": "1eece10d-e6df-43e4-8371-f90bfea6e765",
   "metadata": {},
   "source": [
    "### Análise Exploratória e Tratamento dos Dados"
   ]
  },
  {
   "cell_type": "code",
   "execution_count": 3,
   "id": "d8f55a06-7d71-4905-a3ac-907f91445990",
   "metadata": {
    "tags": []
   },
   "outputs": [],
   "source": [
    "# Importando a biblioteca pandas\n",
    "import pandas as pd"
   ]
  },
  {
   "cell_type": "code",
   "execution_count": 4,
   "id": "7ee896a2-1fd0-461e-b7a4-962984f64fab",
   "metadata": {
    "tags": []
   },
   "outputs": [
    {
     "data": {
      "text/html": [
       "<div>\n",
       "<style scoped>\n",
       "    .dataframe tbody tr th:only-of-type {\n",
       "        vertical-align: middle;\n",
       "    }\n",
       "\n",
       "    .dataframe tbody tr th {\n",
       "        vertical-align: top;\n",
       "    }\n",
       "\n",
       "    .dataframe thead th {\n",
       "        text-align: right;\n",
       "    }\n",
       "</style>\n",
       "<table border=\"1\" class=\"dataframe\">\n",
       "  <thead>\n",
       "    <tr style=\"text-align: right;\">\n",
       "      <th></th>\n",
       "      <th>X0</th>\n",
       "      <th>X1</th>\n",
       "      <th>X2</th>\n",
       "      <th>X3</th>\n",
       "      <th>X4</th>\n",
       "      <th>X4.1</th>\n",
       "      <th>X6</th>\n",
       "      <th>X7</th>\n",
       "      <th>X8</th>\n",
       "      <th>X9</th>\n",
       "      <th>X10</th>\n",
       "      <th>X11</th>\n",
       "    </tr>\n",
       "  </thead>\n",
       "  <tbody>\n",
       "    <tr>\n",
       "      <th>0</th>\n",
       "      <td>1</td>\n",
       "      <td>619</td>\n",
       "      <td>RS</td>\n",
       "      <td>Feminino</td>\n",
       "      <td>42</td>\n",
       "      <td>2</td>\n",
       "      <td>0</td>\n",
       "      <td>1</td>\n",
       "      <td>1</td>\n",
       "      <td>1</td>\n",
       "      <td>10134888.0</td>\n",
       "      <td>1</td>\n",
       "    </tr>\n",
       "    <tr>\n",
       "      <th>1</th>\n",
       "      <td>2</td>\n",
       "      <td>608</td>\n",
       "      <td>SC</td>\n",
       "      <td>Feminino</td>\n",
       "      <td>41</td>\n",
       "      <td>1</td>\n",
       "      <td>8380786</td>\n",
       "      <td>1</td>\n",
       "      <td>0</td>\n",
       "      <td>1</td>\n",
       "      <td>11254258.0</td>\n",
       "      <td>0</td>\n",
       "    </tr>\n",
       "    <tr>\n",
       "      <th>2</th>\n",
       "      <td>3</td>\n",
       "      <td>502</td>\n",
       "      <td>RS</td>\n",
       "      <td>Feminino</td>\n",
       "      <td>42</td>\n",
       "      <td>8</td>\n",
       "      <td>1596608</td>\n",
       "      <td>3</td>\n",
       "      <td>1</td>\n",
       "      <td>0</td>\n",
       "      <td>11393157.0</td>\n",
       "      <td>1</td>\n",
       "    </tr>\n",
       "  </tbody>\n",
       "</table>\n",
       "</div>"
      ],
      "text/plain": [
       "   X0   X1  X2        X3  X4  X4.1       X6  X7  X8  X9         X10  X11\n",
       "0   1  619  RS  Feminino  42     2        0   1   1   1  10134888.0    1\n",
       "1   2  608  SC  Feminino  41     1  8380786   1   0   1  11254258.0    0\n",
       "2   3  502  RS  Feminino  42     8  1596608   3   1   0  11393157.0    1"
      ]
     },
     "execution_count": 4,
     "metadata": {},
     "output_type": "execute_result"
    }
   ],
   "source": [
    "# Visualizando a base de treino\n",
    "base = pd.read_csv('Churn.csv', sep = (';'))\n",
    "base.head(3)"
   ]
  },
  {
   "cell_type": "code",
   "execution_count": 5,
   "id": "2d08354a-fbbc-4a44-99a5-a435781af881",
   "metadata": {
    "tags": []
   },
   "outputs": [],
   "source": [
    "# Dando nome às colunas\n",
    "base.columns = [\"Id\",\"Score\",\"Estado\",\"Genero\",\"Idade\",\"Patrimonio\",\"Saldo\",\"Produtos\",\"TemCartCredito\",\n",
    "                    \"Ativo\",\"Salario\",\"Saiu\"]\n"
   ]
  },
  {
   "cell_type": "code",
   "execution_count": 6,
   "id": "57f6e7af-3fd4-43a2-a2c2-b8471d089562",
   "metadata": {
    "tags": []
   },
   "outputs": [
    {
     "data": {
      "text/html": [
       "<div>\n",
       "<style scoped>\n",
       "    .dataframe tbody tr th:only-of-type {\n",
       "        vertical-align: middle;\n",
       "    }\n",
       "\n",
       "    .dataframe tbody tr th {\n",
       "        vertical-align: top;\n",
       "    }\n",
       "\n",
       "    .dataframe thead th {\n",
       "        text-align: right;\n",
       "    }\n",
       "</style>\n",
       "<table border=\"1\" class=\"dataframe\">\n",
       "  <thead>\n",
       "    <tr style=\"text-align: right;\">\n",
       "      <th></th>\n",
       "      <th>Id</th>\n",
       "      <th>Score</th>\n",
       "      <th>Estado</th>\n",
       "      <th>Genero</th>\n",
       "      <th>Idade</th>\n",
       "      <th>Patrimonio</th>\n",
       "      <th>Saldo</th>\n",
       "      <th>Produtos</th>\n",
       "      <th>TemCartCredito</th>\n",
       "      <th>Ativo</th>\n",
       "      <th>Salario</th>\n",
       "      <th>Saiu</th>\n",
       "    </tr>\n",
       "  </thead>\n",
       "  <tbody>\n",
       "    <tr>\n",
       "      <th>0</th>\n",
       "      <td>1</td>\n",
       "      <td>619</td>\n",
       "      <td>RS</td>\n",
       "      <td>Feminino</td>\n",
       "      <td>42</td>\n",
       "      <td>2</td>\n",
       "      <td>0</td>\n",
       "      <td>1</td>\n",
       "      <td>1</td>\n",
       "      <td>1</td>\n",
       "      <td>10134888.0</td>\n",
       "      <td>1</td>\n",
       "    </tr>\n",
       "    <tr>\n",
       "      <th>1</th>\n",
       "      <td>2</td>\n",
       "      <td>608</td>\n",
       "      <td>SC</td>\n",
       "      <td>Feminino</td>\n",
       "      <td>41</td>\n",
       "      <td>1</td>\n",
       "      <td>8380786</td>\n",
       "      <td>1</td>\n",
       "      <td>0</td>\n",
       "      <td>1</td>\n",
       "      <td>11254258.0</td>\n",
       "      <td>0</td>\n",
       "    </tr>\n",
       "    <tr>\n",
       "      <th>2</th>\n",
       "      <td>3</td>\n",
       "      <td>502</td>\n",
       "      <td>RS</td>\n",
       "      <td>Feminino</td>\n",
       "      <td>42</td>\n",
       "      <td>8</td>\n",
       "      <td>1596608</td>\n",
       "      <td>3</td>\n",
       "      <td>1</td>\n",
       "      <td>0</td>\n",
       "      <td>11393157.0</td>\n",
       "      <td>1</td>\n",
       "    </tr>\n",
       "  </tbody>\n",
       "</table>\n",
       "</div>"
      ],
      "text/plain": [
       "   Id  Score Estado    Genero  Idade  Patrimonio    Saldo  Produtos  \\\n",
       "0   1    619     RS  Feminino     42           2        0         1   \n",
       "1   2    608     SC  Feminino     41           1  8380786         1   \n",
       "2   3    502     RS  Feminino     42           8  1596608         3   \n",
       "\n",
       "   TemCartCredito  Ativo     Salario  Saiu  \n",
       "0               1      1  10134888.0     1  \n",
       "1               0      1  11254258.0     0  \n",
       "2               1      0  11393157.0     1  "
      ]
     },
     "execution_count": 6,
     "metadata": {},
     "output_type": "execute_result"
    }
   ],
   "source": [
    "# Verificando os nomes das colunas\n",
    "base.head(3)"
   ]
  },
  {
   "cell_type": "code",
   "execution_count": 7,
   "id": "fa42a39b-ba76-42f1-a555-0bf6bd50e50c",
   "metadata": {
    "tags": []
   },
   "outputs": [
    {
     "name": "stdout",
     "output_type": "stream",
     "text": [
      "<class 'pandas.core.frame.DataFrame'>\n",
      "RangeIndex: 999 entries, 0 to 998\n",
      "Data columns (total 12 columns):\n",
      " #   Column          Non-Null Count  Dtype  \n",
      "---  ------          --------------  -----  \n",
      " 0   Id              999 non-null    int64  \n",
      " 1   Score           999 non-null    int64  \n",
      " 2   Estado          999 non-null    object \n",
      " 3   Genero          991 non-null    object \n",
      " 4   Idade           999 non-null    int64  \n",
      " 5   Patrimonio      999 non-null    int64  \n",
      " 6   Saldo           999 non-null    int64  \n",
      " 7   Produtos        999 non-null    int64  \n",
      " 8   TemCartCredito  999 non-null    int64  \n",
      " 9   Ativo           999 non-null    int64  \n",
      " 10  Salario         992 non-null    float64\n",
      " 11  Saiu            999 non-null    int64  \n",
      "dtypes: float64(1), int64(9), object(2)\n",
      "memory usage: 93.8+ KB\n"
     ]
    }
   ],
   "source": [
    "# Verificando as informações da base\n",
    "base.info()"
   ]
  },
  {
   "cell_type": "code",
   "execution_count": 8,
   "id": "f0d88e24-200b-4b35-90b7-5b763bd799bb",
   "metadata": {
    "tags": []
   },
   "outputs": [
    {
     "data": {
      "text/plain": [
       "int64      9\n",
       "object     2\n",
       "float64    1\n",
       "Name: count, dtype: int64"
      ]
     },
     "execution_count": 8,
     "metadata": {},
     "output_type": "execute_result"
    }
   ],
   "source": [
    "# Verificando o tipo dos dados\n",
    "base.dtypes.value_counts()"
   ]
  },
  {
   "cell_type": "code",
   "execution_count": 9,
   "id": "ca9e8230-24ca-46f3-98e5-c492589acb7a",
   "metadata": {
    "tags": []
   },
   "outputs": [
    {
     "data": {
      "text/plain": [
       "Genero     8\n",
       "Salario    7\n",
       "Id         0\n",
       "Score      0\n",
       "Estado     0\n",
       "dtype: int64"
      ]
     },
     "execution_count": 9,
     "metadata": {},
     "output_type": "execute_result"
    }
   ],
   "source": [
    "# E os valores nulos\n",
    "base.isnull().sum().sort_values(ascending=False).head(5)"
   ]
  },
  {
   "cell_type": "code",
   "execution_count": 10,
   "id": "535b2722-d124-44f0-b1de-aecea696057a",
   "metadata": {
    "tags": []
   },
   "outputs": [
    {
     "data": {
      "text/html": [
       "<div>\n",
       "<style scoped>\n",
       "    .dataframe tbody tr th:only-of-type {\n",
       "        vertical-align: middle;\n",
       "    }\n",
       "\n",
       "    .dataframe tbody tr th {\n",
       "        vertical-align: top;\n",
       "    }\n",
       "\n",
       "    .dataframe thead th {\n",
       "        text-align: right;\n",
       "    }\n",
       "</style>\n",
       "<table border=\"1\" class=\"dataframe\">\n",
       "  <thead>\n",
       "    <tr style=\"text-align: right;\">\n",
       "      <th></th>\n",
       "      <th>Id</th>\n",
       "      <th>Score</th>\n",
       "      <th>Estado</th>\n",
       "      <th>Genero</th>\n",
       "      <th>Idade</th>\n",
       "      <th>Patrimonio</th>\n",
       "      <th>Saldo</th>\n",
       "      <th>Produtos</th>\n",
       "      <th>TemCartCredito</th>\n",
       "      <th>Ativo</th>\n",
       "      <th>Salario</th>\n",
       "      <th>Saiu</th>\n",
       "    </tr>\n",
       "  </thead>\n",
       "  <tbody>\n",
       "    <tr>\n",
       "      <th>80</th>\n",
       "      <td>81</td>\n",
       "      <td>665</td>\n",
       "      <td>RS</td>\n",
       "      <td>Feminino</td>\n",
       "      <td>34</td>\n",
       "      <td>1</td>\n",
       "      <td>9664554</td>\n",
       "      <td>2</td>\n",
       "      <td>0</td>\n",
       "      <td>0</td>\n",
       "      <td>17141366.0</td>\n",
       "      <td>0</td>\n",
       "    </tr>\n",
       "    <tr>\n",
       "      <th>81</th>\n",
       "      <td>81</td>\n",
       "      <td>665</td>\n",
       "      <td>RS</td>\n",
       "      <td>Feminino</td>\n",
       "      <td>34</td>\n",
       "      <td>1</td>\n",
       "      <td>9664554</td>\n",
       "      <td>2</td>\n",
       "      <td>0</td>\n",
       "      <td>0</td>\n",
       "      <td>17141366.0</td>\n",
       "      <td>0</td>\n",
       "    </tr>\n",
       "  </tbody>\n",
       "</table>\n",
       "</div>"
      ],
      "text/plain": [
       "    Id  Score Estado    Genero  Idade  Patrimonio    Saldo  Produtos  \\\n",
       "80  81    665     RS  Feminino     34           1  9664554         2   \n",
       "81  81    665     RS  Feminino     34           1  9664554         2   \n",
       "\n",
       "    TemCartCredito  Ativo     Salario  Saiu  \n",
       "80               0      0  17141366.0     0  \n",
       "81               0      0  17141366.0     0  "
      ]
     },
     "execution_count": 10,
     "metadata": {},
     "output_type": "execute_result"
    }
   ],
   "source": [
    "# Verificando dados duplicados, buscamos pelo ID\n",
    "base[base.duplicated(['Id'],keep=False)]"
   ]
  },
  {
   "cell_type": "code",
   "execution_count": 11,
   "id": "96bea103-1f8c-4c3b-9182-be4db67b0c9c",
   "metadata": {
    "tags": []
   },
   "outputs": [
    {
     "data": {
      "text/html": [
       "<div>\n",
       "<style scoped>\n",
       "    .dataframe tbody tr th:only-of-type {\n",
       "        vertical-align: middle;\n",
       "    }\n",
       "\n",
       "    .dataframe tbody tr th {\n",
       "        vertical-align: top;\n",
       "    }\n",
       "\n",
       "    .dataframe thead th {\n",
       "        text-align: right;\n",
       "    }\n",
       "</style>\n",
       "<table border=\"1\" class=\"dataframe\">\n",
       "  <thead>\n",
       "    <tr style=\"text-align: right;\">\n",
       "      <th></th>\n",
       "      <th>Id</th>\n",
       "      <th>Score</th>\n",
       "      <th>Estado</th>\n",
       "      <th>Genero</th>\n",
       "      <th>Idade</th>\n",
       "      <th>Patrimonio</th>\n",
       "      <th>Saldo</th>\n",
       "      <th>Produtos</th>\n",
       "      <th>TemCartCredito</th>\n",
       "      <th>Ativo</th>\n",
       "      <th>Salario</th>\n",
       "      <th>Saiu</th>\n",
       "    </tr>\n",
       "  </thead>\n",
       "  <tbody>\n",
       "  </tbody>\n",
       "</table>\n",
       "</div>"
      ],
      "text/plain": [
       "Empty DataFrame\n",
       "Columns: [Id, Score, Estado, Genero, Idade, Patrimonio, Saldo, Produtos, TemCartCredito, Ativo, Salario, Saiu]\n",
       "Index: []"
      ]
     },
     "execution_count": 11,
     "metadata": {},
     "output_type": "execute_result"
    }
   ],
   "source": [
    "#Excluimso pelo ID\n",
    "base.drop_duplicates(subset=\"Id\", keep='first',inplace=True)\n",
    "#Buscamos duplicados \n",
    "base[base.duplicated(['Id'],keep=False)]"
   ]
  },
  {
   "cell_type": "code",
   "execution_count": 12,
   "id": "e2ff2f08-e8a9-439f-bef6-eb3993c263d8",
   "metadata": {
    "tags": []
   },
   "outputs": [
    {
     "data": {
      "text/plain": [
       "count           990\n",
       "unique            5\n",
       "top       Masculino\n",
       "freq            521\n",
       "Name: Genero, dtype: object"
      ]
     },
     "execution_count": 12,
     "metadata": {},
     "output_type": "execute_result"
    }
   ],
   "source": [
    "#Substituindo valores nulos da coluna 'Gênero'\n",
    "base['Genero'].describe()"
   ]
  },
  {
   "cell_type": "code",
   "execution_count": 13,
   "id": "beeffde9-32a9-45d4-ae94-95e9a38b490e",
   "metadata": {
    "tags": []
   },
   "outputs": [],
   "source": [
    "# Como masculino é a moda, substituiremos valores nulos por 'Masculino'\n",
    "base.loc[base.Genero.isnull(),'Genero'] = 'Masculino'"
   ]
  },
  {
   "cell_type": "code",
   "execution_count": 14,
   "id": "cd649f1d-b75e-4a6a-8bea-a30923112eb4",
   "metadata": {
    "tags": []
   },
   "outputs": [
    {
     "data": {
      "text/plain": [
       "0"
      ]
     },
     "execution_count": 14,
     "metadata": {},
     "output_type": "execute_result"
    }
   ],
   "source": [
    "#Verificando novamente\n",
    "base['Genero'].isnull().sum()"
   ]
  },
  {
   "cell_type": "code",
   "execution_count": 15,
   "id": "b3f6c80e-7e97-4792-b3ca-950def98ffa2",
   "metadata": {
    "tags": []
   },
   "outputs": [
    {
     "data": {
      "text/plain": [
       "array(['Feminino', 'Masculino', 'M', 'F', 'Fem'], dtype=object)"
      ]
     },
     "execution_count": 15,
     "metadata": {},
     "output_type": "execute_result"
    }
   ],
   "source": [
    "#Percebemos que na coluna Genero existem 5 valores únicos. Contudo, era para terem apenas 2 (Masculino e Feminino), trataremos esses dados depois.\n",
    "base['Genero'].unique()"
   ]
  },
  {
   "cell_type": "code",
   "execution_count": 16,
   "id": "a129c8b0-dc3d-4337-88e2-55e7536ad341",
   "metadata": {
    "tags": []
   },
   "outputs": [
    {
     "data": {
      "text/plain": [
       "count    9.910000e+02\n",
       "mean     3.530593e+07\n",
       "std      5.308476e+08\n",
       "min      9.677000e+03\n",
       "25%      3.020010e+06\n",
       "50%      8.695742e+06\n",
       "75%      1.404604e+07\n",
       "max      1.193469e+10\n",
       "Name: Salario, dtype: float64"
      ]
     },
     "execution_count": 16,
     "metadata": {},
     "output_type": "execute_result"
    }
   ],
   "source": [
    "#Substituindo valores nulos da coluna 'Gênero'\n",
    "base['Salario'].describe()"
   ]
  },
  {
   "cell_type": "code",
   "execution_count": 17,
   "id": "a845541c-ce77-4cfa-9a64-88da72b1cbca",
   "metadata": {
    "tags": []
   },
   "outputs": [],
   "source": [
    "# Descobrindo a mediana para poder substituir posteriormente\n",
    "import statistics  as sts\n",
    "mediana = sts.median(base['Salario'])"
   ]
  },
  {
   "cell_type": "code",
   "execution_count": 18,
   "id": "84028f9c-813b-4430-ad24-5cf4fdd93e95",
   "metadata": {
    "tags": []
   },
   "outputs": [],
   "source": [
    "# Sabendo a mediana, substituiremos valores nulos pela\n",
    "base.loc[base.Salario.isnull(),'Salario'] = mediana"
   ]
  },
  {
   "cell_type": "code",
   "execution_count": 19,
   "id": "42a54582-9b38-496d-b41e-8c6da1b9a3d4",
   "metadata": {
    "tags": []
   },
   "outputs": [
    {
     "data": {
      "text/plain": [
       "0"
      ]
     },
     "execution_count": 19,
     "metadata": {},
     "output_type": "execute_result"
    }
   ],
   "source": [
    "#Verificando novamente\n",
    "base['Salario'].isnull().sum()"
   ]
  },
  {
   "cell_type": "code",
   "execution_count": 20,
   "id": "f9c41844-7e84-4355-99cd-c1a8fba1478d",
   "metadata": {
    "tags": []
   },
   "outputs": [],
   "source": [
    "# Tendo tratado os valores Nulos, vamos tratar os valores fora do domínio de todas as colunas 'object'"
   ]
  },
  {
   "cell_type": "code",
   "execution_count": 21,
   "id": "8c26a1a8-13fe-4f57-abf6-e58285bf8bcb",
   "metadata": {
    "tags": []
   },
   "outputs": [
    {
     "data": {
      "text/plain": [
       "Index(['Estado', 'Genero'], dtype='object')"
      ]
     },
     "execution_count": 21,
     "metadata": {},
     "output_type": "execute_result"
    }
   ],
   "source": [
    "#Verificando quais colunas são do tipo 'object'\n",
    "base.columns[base.dtypes == 'object']"
   ]
  },
  {
   "cell_type": "code",
   "execution_count": 22,
   "id": "f264f9cb-93fa-4e10-8125-b7dc2a3fece2",
   "metadata": {
    "tags": []
   },
   "outputs": [
    {
     "data": {
      "text/plain": [
       "array(['Feminino', 'Masculino', 'M', 'F', 'Fem'], dtype=object)"
      ]
     },
     "execution_count": 22,
     "metadata": {},
     "output_type": "execute_result"
    }
   ],
   "source": [
    "# Tratando coluna Gênero\n",
    "base['Genero'].unique()"
   ]
  },
  {
   "cell_type": "code",
   "execution_count": 23,
   "id": "dffea45e-a6d3-4d6a-bf2b-5552bf5547a8",
   "metadata": {
    "tags": []
   },
   "outputs": [],
   "source": [
    "#Substituindo os valores 'M' por 'Masculino', 'F' e 'Fem' por 'Feminino'\n",
    "base.loc[base['Genero'] ==  'M', 'Genero'] = 'Masculino'\n",
    "base.loc[base['Genero'] ==  'F', 'Genero'] = 'Feminino'\n",
    "base.loc[base['Genero'] ==  'Fem', 'Genero'] = 'Feminino'"
   ]
  },
  {
   "cell_type": "code",
   "execution_count": 24,
   "id": "d2b73e54-497b-4085-ba67-5b6fecc800da",
   "metadata": {
    "tags": []
   },
   "outputs": [
    {
     "data": {
      "text/plain": [
       "array(['Feminino', 'Masculino'], dtype=object)"
      ]
     },
     "execution_count": 24,
     "metadata": {},
     "output_type": "execute_result"
    }
   ],
   "source": [
    "#Verificando agora\n",
    "base['Genero'].unique()"
   ]
  },
  {
   "cell_type": "code",
   "execution_count": 25,
   "id": "83a5a3f6-154e-4088-b8e4-1f8ce173ff89",
   "metadata": {
    "tags": []
   },
   "outputs": [
    {
     "data": {
      "text/plain": [
       "array(['RS', 'SC', 'PR', 'RP', 'SP', 'TD'], dtype=object)"
      ]
     },
     "execution_count": 25,
     "metadata": {},
     "output_type": "execute_result"
    }
   ],
   "source": [
    "#Fazendo o mesmo para a coluna 'Estado' (Essa é uma análise apenas dos estados da região Sul do Brasil)\n",
    "base['Estado'].unique()"
   ]
  },
  {
   "cell_type": "code",
   "execution_count": 26,
   "id": "63ce8a4b-936e-49f2-b709-9784c8e44676",
   "metadata": {
    "tags": []
   },
   "outputs": [
    {
     "data": {
      "text/plain": [
       "count     998\n",
       "unique      6\n",
       "top        RS\n",
       "freq      477\n",
       "Name: Estado, dtype: object"
      ]
     },
     "execution_count": 26,
     "metadata": {},
     "output_type": "execute_result"
    }
   ],
   "source": [
    "#Verificando a moda\n",
    "base['Estado'].describe()"
   ]
  },
  {
   "cell_type": "code",
   "execution_count": 27,
   "id": "090431e0-f767-4539-980c-56f85fad6485",
   "metadata": {
    "tags": []
   },
   "outputs": [],
   "source": [
    "#Substituindo valores fora do domínio pela moda ('RS')\n",
    "base.loc[base['Estado'].isin(['RP','SP','TD']), 'Estado'] = 'RS'      "
   ]
  },
  {
   "cell_type": "code",
   "execution_count": 28,
   "id": "f86428af-cbc0-4482-aebd-60e260def6a5",
   "metadata": {
    "tags": []
   },
   "outputs": [
    {
     "data": {
      "text/plain": [
       "array(['RS', 'SC', 'PR'], dtype=object)"
      ]
     },
     "execution_count": 28,
     "metadata": {},
     "output_type": "execute_result"
    }
   ],
   "source": [
    "#Verificando agora\n",
    "base['Estado'].unique()"
   ]
  },
  {
   "cell_type": "code",
   "execution_count": 29,
   "id": "0110de13-312e-45c7-8ee5-cf2d1d1e8a6d",
   "metadata": {},
   "outputs": [],
   "source": [
    "#Já que tratamos todos os valores nulos e os valores fora do domínio das colunas 'object', faltam ser tratadas os valores fora do domínio das colunas 'int64'"
   ]
  },
  {
   "cell_type": "code",
   "execution_count": 30,
   "id": "f60f1564-7b93-47b1-9145-1352fd516622",
   "metadata": {
    "tags": []
   },
   "outputs": [
    {
     "data": {
      "text/plain": [
       "Index(['Id', 'Score', 'Idade', 'Patrimonio', 'Saldo', 'Produtos',\n",
       "       'TemCartCredito', 'Ativo', 'Saiu'],\n",
       "      dtype='object')"
      ]
     },
     "execution_count": 30,
     "metadata": {},
     "output_type": "execute_result"
    }
   ],
   "source": [
    "#Verificando quais colunas são do tipo 'int64'\n",
    "base.columns[base.dtypes == 'int64']"
   ]
  },
  {
   "cell_type": "code",
   "execution_count": 31,
   "id": "1cf1ab4a-f05f-4c60-aed6-67e14fd351b3",
   "metadata": {
    "tags": []
   },
   "outputs": [
    {
     "data": {
      "text/plain": [
       "count    998.000000\n",
       "mean      38.907816\n",
       "std       11.406570\n",
       "min      -20.000000\n",
       "25%       32.000000\n",
       "50%       37.000000\n",
       "75%       44.000000\n",
       "max      140.000000\n",
       "Name: Idade, dtype: float64"
      ]
     },
     "execution_count": 31,
     "metadata": {},
     "output_type": "execute_result"
    }
   ],
   "source": [
    "#Coluna 'Base'\n",
    "base['Idade'].describe()"
   ]
  },
  {
   "cell_type": "code",
   "execution_count": 32,
   "id": "dbd53571-cea9-4306-a56f-525bee9939d8",
   "metadata": {
    "tags": []
   },
   "outputs": [],
   "source": [
    "#Tratando os valores (substituiremos os valores fora do domínio pela mediana)\n",
    "mediana = sts.median(base['Idade'])\n",
    "base.loc[(base['Idade'] <  0 )  | ( base['Idade'] >  120), 'Idade'] = mediana"
   ]
  },
  {
   "cell_type": "code",
   "execution_count": 33,
   "id": "ba2741c2-8043-4569-8a51-348f97aca8ba",
   "metadata": {
    "tags": []
   },
   "outputs": [
    {
     "data": {
      "text/plain": [
       "count    998.000000\n",
       "mean      38.908818\n",
       "std       10.676642\n",
       "min        0.000000\n",
       "25%       32.000000\n",
       "50%       37.000000\n",
       "75%       44.000000\n",
       "max       82.000000\n",
       "Name: Idade, dtype: float64"
      ]
     },
     "execution_count": 33,
     "metadata": {},
     "output_type": "execute_result"
    }
   ],
   "source": [
    "#Verificando\n",
    "base['Idade'].describe()"
   ]
  },
  {
   "cell_type": "code",
   "execution_count": 34,
   "id": "9e81c092-75a6-4f9a-8686-c054a7ca86ae",
   "metadata": {
    "tags": []
   },
   "outputs": [],
   "source": [
    "#Agora fazendo o mesmo para o restante das colunas, de maneira mais rápida"
   ]
  },
  {
   "cell_type": "code",
   "execution_count": 35,
   "id": "109f3f8e-718d-418a-946a-080b0281e379",
   "metadata": {
    "tags": []
   },
   "outputs": [
    {
     "data": {
      "text/plain": [
       "count    998.000000\n",
       "mean       5.073146\n",
       "std        2.926320\n",
       "min        0.000000\n",
       "25%        2.000000\n",
       "50%        5.000000\n",
       "75%        8.000000\n",
       "max       10.000000\n",
       "Name: Patrimonio, dtype: float64"
      ]
     },
     "execution_count": 35,
     "metadata": {},
     "output_type": "execute_result"
    }
   ],
   "source": [
    "#Coluna Patrimônio\n",
    "base['Patrimonio'].describe()"
   ]
  },
  {
   "cell_type": "code",
   "execution_count": 36,
   "id": "bd3fa980-3ec2-4a56-844a-bbc675713995",
   "metadata": {
    "tags": []
   },
   "outputs": [],
   "source": [
    "# Tudo parece certo"
   ]
  },
  {
   "cell_type": "code",
   "execution_count": 37,
   "id": "d9e84260-c55a-4216-ae10-353e4d171572",
   "metadata": {
    "tags": []
   },
   "outputs": [
    {
     "data": {
      "text/plain": [
       "count    9.980000e+02\n",
       "mean     7.162423e+06\n",
       "std      6.314508e+06\n",
       "min      0.000000e+00\n",
       "25%      0.000000e+00\n",
       "50%      8.926348e+06\n",
       "75%      1.258767e+07\n",
       "max      2.117743e+07\n",
       "Name: Saldo, dtype: float64"
      ]
     },
     "execution_count": 37,
     "metadata": {},
     "output_type": "execute_result"
    }
   ],
   "source": [
    "#Coluna Saldo\n",
    "base['Saldo'].describe()"
   ]
  },
  {
   "cell_type": "code",
   "execution_count": 38,
   "id": "de616a9b-d44c-4c93-aadb-ce58f1676cf0",
   "metadata": {
    "tags": []
   },
   "outputs": [],
   "source": [
    "# Tudo parece certo"
   ]
  },
  {
   "cell_type": "code",
   "execution_count": 39,
   "id": "d51782bd-ced4-4ae4-9e1f-34da3b7bf615",
   "metadata": {
    "tags": []
   },
   "outputs": [
    {
     "data": {
      "text/plain": [
       "count    998.000000\n",
       "mean       1.526052\n",
       "std        0.574293\n",
       "min        1.000000\n",
       "25%        1.000000\n",
       "50%        1.000000\n",
       "75%        2.000000\n",
       "max        4.000000\n",
       "Name: Produtos, dtype: float64"
      ]
     },
     "execution_count": 39,
     "metadata": {},
     "output_type": "execute_result"
    }
   ],
   "source": [
    "#Coluna Produtos\n",
    "base['Produtos'].describe()"
   ]
  },
  {
   "cell_type": "code",
   "execution_count": 40,
   "id": "7ca5aa75-6479-4ec7-b527-11b32787b8f6",
   "metadata": {
    "tags": []
   },
   "outputs": [],
   "source": [
    "# Tudo parece certo"
   ]
  },
  {
   "cell_type": "code",
   "execution_count": 41,
   "id": "22fa5d37-4fa7-4b3f-a2b7-b86584347758",
   "metadata": {
    "tags": []
   },
   "outputs": [
    {
     "data": {
      "text/plain": [
       "count    998.000000\n",
       "mean       0.703407\n",
       "std        0.456985\n",
       "min        0.000000\n",
       "25%        0.000000\n",
       "50%        1.000000\n",
       "75%        1.000000\n",
       "max        1.000000\n",
       "Name: TemCartCredito, dtype: float64"
      ]
     },
     "execution_count": 41,
     "metadata": {},
     "output_type": "execute_result"
    }
   ],
   "source": [
    "#Coluna TemCartCredito\n",
    "base['TemCartCredito'].describe()"
   ]
  },
  {
   "cell_type": "code",
   "execution_count": 42,
   "id": "f8e45779-d396-4f32-82d0-071ca38082a4",
   "metadata": {
    "tags": []
   },
   "outputs": [],
   "source": [
    "# Tudo parece certo"
   ]
  },
  {
   "cell_type": "code",
   "execution_count": 43,
   "id": "187c45a4-512d-49c8-a37e-92d002da8243",
   "metadata": {
    "tags": []
   },
   "outputs": [
    {
     "data": {
      "text/plain": [
       "count    998.00000\n",
       "mean       0.51002\n",
       "std        0.50015\n",
       "min        0.00000\n",
       "25%        0.00000\n",
       "50%        1.00000\n",
       "75%        1.00000\n",
       "max        1.00000\n",
       "Name: Ativo, dtype: float64"
      ]
     },
     "execution_count": 43,
     "metadata": {},
     "output_type": "execute_result"
    }
   ],
   "source": [
    "#Coluna Ativo\n",
    "base['Ativo'].describe()"
   ]
  },
  {
   "cell_type": "code",
   "execution_count": 44,
   "id": "d77055f7-e2db-4c67-93a4-a247270292fd",
   "metadata": {
    "tags": []
   },
   "outputs": [],
   "source": [
    "# Tudo parece certo"
   ]
  },
  {
   "cell_type": "code",
   "execution_count": 45,
   "id": "280e238d-1f2b-46a9-ada3-492e2af83586",
   "metadata": {
    "tags": []
   },
   "outputs": [
    {
     "data": {
      "text/plain": [
       "count    998.000000\n",
       "mean       0.203407\n",
       "std        0.402734\n",
       "min        0.000000\n",
       "25%        0.000000\n",
       "50%        0.000000\n",
       "75%        0.000000\n",
       "max        1.000000\n",
       "Name: Saiu, dtype: float64"
      ]
     },
     "execution_count": 45,
     "metadata": {},
     "output_type": "execute_result"
    }
   ],
   "source": [
    "#Coluna Saiu\n",
    "base['Saiu'].describe()"
   ]
  },
  {
   "cell_type": "code",
   "execution_count": 46,
   "id": "abbd87f7-718d-4bad-b355-4489ee6f173e",
   "metadata": {
    "tags": []
   },
   "outputs": [],
   "source": [
    "# Tudo parece certo"
   ]
  },
  {
   "cell_type": "code",
   "execution_count": 47,
   "id": "df79e626-bc4e-4514-8d80-644a7505b8e2",
   "metadata": {
    "tags": []
   },
   "outputs": [],
   "source": [
    "#Por último só ajustaremos a coluna salário. Definiremos outliers em salário dados com mais de 2 desvios padrão.\n",
    "import statistics  as sts\n",
    "desv = sts.stdev(base['Salario'])"
   ]
  },
  {
   "cell_type": "code",
   "execution_count": 48,
   "id": "0814753e-83c2-40ef-b632-ea82cafd48a1",
   "metadata": {
    "tags": []
   },
   "outputs": [
    {
     "data": {
      "text/html": [
       "<div>\n",
       "<style scoped>\n",
       "    .dataframe tbody tr th:only-of-type {\n",
       "        vertical-align: middle;\n",
       "    }\n",
       "\n",
       "    .dataframe tbody tr th {\n",
       "        vertical-align: top;\n",
       "    }\n",
       "\n",
       "    .dataframe thead th {\n",
       "        text-align: right;\n",
       "    }\n",
       "</style>\n",
       "<table border=\"1\" class=\"dataframe\">\n",
       "  <thead>\n",
       "    <tr style=\"text-align: right;\">\n",
       "      <th></th>\n",
       "      <th>Id</th>\n",
       "      <th>Score</th>\n",
       "      <th>Estado</th>\n",
       "      <th>Genero</th>\n",
       "      <th>Idade</th>\n",
       "      <th>Patrimonio</th>\n",
       "      <th>Saldo</th>\n",
       "      <th>Produtos</th>\n",
       "      <th>TemCartCredito</th>\n",
       "      <th>Ativo</th>\n",
       "      <th>Salario</th>\n",
       "      <th>Saiu</th>\n",
       "    </tr>\n",
       "  </thead>\n",
       "  <tbody>\n",
       "    <tr>\n",
       "      <th>7</th>\n",
       "      <td>8</td>\n",
       "      <td>376</td>\n",
       "      <td>PR</td>\n",
       "      <td>Feminino</td>\n",
       "      <td>29</td>\n",
       "      <td>4</td>\n",
       "      <td>11504674</td>\n",
       "      <td>4</td>\n",
       "      <td>1</td>\n",
       "      <td>0</td>\n",
       "      <td>1.193469e+10</td>\n",
       "      <td>1</td>\n",
       "    </tr>\n",
       "    <tr>\n",
       "      <th>116</th>\n",
       "      <td>118</td>\n",
       "      <td>668</td>\n",
       "      <td>PR</td>\n",
       "      <td>Feminino</td>\n",
       "      <td>37</td>\n",
       "      <td>6</td>\n",
       "      <td>1678644</td>\n",
       "      <td>1</td>\n",
       "      <td>1</td>\n",
       "      <td>0</td>\n",
       "      <td>1.156383e+10</td>\n",
       "      <td>0</td>\n",
       "    </tr>\n",
       "    <tr>\n",
       "      <th>170</th>\n",
       "      <td>172</td>\n",
       "      <td>484</td>\n",
       "      <td>RS</td>\n",
       "      <td>Feminino</td>\n",
       "      <td>29</td>\n",
       "      <td>4</td>\n",
       "      <td>13011439</td>\n",
       "      <td>1</td>\n",
       "      <td>1</td>\n",
       "      <td>0</td>\n",
       "      <td>1.640179e+09</td>\n",
       "      <td>0</td>\n",
       "    </tr>\n",
       "    <tr>\n",
       "      <th>230</th>\n",
       "      <td>232</td>\n",
       "      <td>673</td>\n",
       "      <td>RS</td>\n",
       "      <td>Masculino</td>\n",
       "      <td>72</td>\n",
       "      <td>1</td>\n",
       "      <td>0</td>\n",
       "      <td>2</td>\n",
       "      <td>0</td>\n",
       "      <td>1</td>\n",
       "      <td>1.119812e+09</td>\n",
       "      <td>0</td>\n",
       "    </tr>\n",
       "  </tbody>\n",
       "</table>\n",
       "</div>"
      ],
      "text/plain": [
       "      Id  Score Estado     Genero  Idade  Patrimonio     Saldo  Produtos  \\\n",
       "7      8    376     PR   Feminino     29           4  11504674         4   \n",
       "116  118    668     PR   Feminino     37           6   1678644         1   \n",
       "170  172    484     RS   Feminino     29           4  13011439         1   \n",
       "230  232    673     RS  Masculino     72           1         0         2   \n",
       "\n",
       "     TemCartCredito  Ativo       Salario  Saiu  \n",
       "7                 1      0  1.193469e+10     1  \n",
       "116               1      0  1.156383e+10     0  \n",
       "170               1      0  1.640179e+09     0  \n",
       "230               0      1  1.119812e+09     0  "
      ]
     },
     "execution_count": 48,
     "metadata": {},
     "output_type": "execute_result"
    }
   ],
   "source": [
    "#Checamos se algum atende critério\n",
    "base.loc[base['Salario'] >=  2 * desv ] "
   ]
  },
  {
   "cell_type": "code",
   "execution_count": 49,
   "id": "ae94f9bc-10f9-4ca9-86ea-fbfa56464074",
   "metadata": {
    "tags": []
   },
   "outputs": [],
   "source": [
    "#Substituiremos esses valores pela mediana\n",
    "mediana = sts.median(base['Salario'])\n",
    "base.loc[base['Salario'] >=  2 * desv, 'Salario'] = mediana"
   ]
  },
  {
   "cell_type": "code",
   "execution_count": 50,
   "id": "14728ab8-5ddb-470b-a49e-eb2f46698615",
   "metadata": {
    "tags": []
   },
   "outputs": [
    {
     "data": {
      "text/html": [
       "<div>\n",
       "<style scoped>\n",
       "    .dataframe tbody tr th:only-of-type {\n",
       "        vertical-align: middle;\n",
       "    }\n",
       "\n",
       "    .dataframe tbody tr th {\n",
       "        vertical-align: top;\n",
       "    }\n",
       "\n",
       "    .dataframe thead th {\n",
       "        text-align: right;\n",
       "    }\n",
       "</style>\n",
       "<table border=\"1\" class=\"dataframe\">\n",
       "  <thead>\n",
       "    <tr style=\"text-align: right;\">\n",
       "      <th></th>\n",
       "      <th>Id</th>\n",
       "      <th>Score</th>\n",
       "      <th>Estado</th>\n",
       "      <th>Genero</th>\n",
       "      <th>Idade</th>\n",
       "      <th>Patrimonio</th>\n",
       "      <th>Saldo</th>\n",
       "      <th>Produtos</th>\n",
       "      <th>TemCartCredito</th>\n",
       "      <th>Ativo</th>\n",
       "      <th>Salario</th>\n",
       "      <th>Saiu</th>\n",
       "    </tr>\n",
       "  </thead>\n",
       "  <tbody>\n",
       "  </tbody>\n",
       "</table>\n",
       "</div>"
      ],
      "text/plain": [
       "Empty DataFrame\n",
       "Columns: [Id, Score, Estado, Genero, Idade, Patrimonio, Saldo, Produtos, TemCartCredito, Ativo, Salario, Saiu]\n",
       "Index: []"
      ]
     },
     "execution_count": 50,
     "metadata": {},
     "output_type": "execute_result"
    }
   ],
   "source": [
    "# Verificando novamente\n",
    "base.loc[base['Salario'] >=  2 * desv ] "
   ]
  },
  {
   "cell_type": "code",
   "execution_count": 51,
   "id": "7ae91b06-197d-430a-8773-a48cf66d5d4b",
   "metadata": {
    "tags": []
   },
   "outputs": [
    {
     "data": {
      "text/html": [
       "<div>\n",
       "<style scoped>\n",
       "    .dataframe tbody tr th:only-of-type {\n",
       "        vertical-align: middle;\n",
       "    }\n",
       "\n",
       "    .dataframe tbody tr th {\n",
       "        vertical-align: top;\n",
       "    }\n",
       "\n",
       "    .dataframe thead th {\n",
       "        text-align: right;\n",
       "    }\n",
       "</style>\n",
       "<table border=\"1\" class=\"dataframe\">\n",
       "  <thead>\n",
       "    <tr style=\"text-align: right;\">\n",
       "      <th></th>\n",
       "      <th>Id</th>\n",
       "      <th>Score</th>\n",
       "      <th>Estado</th>\n",
       "      <th>Genero</th>\n",
       "      <th>Idade</th>\n",
       "      <th>Patrimonio</th>\n",
       "      <th>Saldo</th>\n",
       "      <th>Produtos</th>\n",
       "      <th>TemCartCredito</th>\n",
       "      <th>Ativo</th>\n",
       "      <th>Salario</th>\n",
       "      <th>Saiu</th>\n",
       "    </tr>\n",
       "  </thead>\n",
       "  <tbody>\n",
       "    <tr>\n",
       "      <th>0</th>\n",
       "      <td>1</td>\n",
       "      <td>619</td>\n",
       "      <td>RS</td>\n",
       "      <td>Feminino</td>\n",
       "      <td>42</td>\n",
       "      <td>2</td>\n",
       "      <td>0</td>\n",
       "      <td>1</td>\n",
       "      <td>1</td>\n",
       "      <td>1</td>\n",
       "      <td>10134888.0</td>\n",
       "      <td>1</td>\n",
       "    </tr>\n",
       "    <tr>\n",
       "      <th>1</th>\n",
       "      <td>2</td>\n",
       "      <td>608</td>\n",
       "      <td>SC</td>\n",
       "      <td>Feminino</td>\n",
       "      <td>41</td>\n",
       "      <td>1</td>\n",
       "      <td>8380786</td>\n",
       "      <td>1</td>\n",
       "      <td>0</td>\n",
       "      <td>1</td>\n",
       "      <td>11254258.0</td>\n",
       "      <td>0</td>\n",
       "    </tr>\n",
       "    <tr>\n",
       "      <th>2</th>\n",
       "      <td>3</td>\n",
       "      <td>502</td>\n",
       "      <td>RS</td>\n",
       "      <td>Feminino</td>\n",
       "      <td>42</td>\n",
       "      <td>8</td>\n",
       "      <td>1596608</td>\n",
       "      <td>3</td>\n",
       "      <td>1</td>\n",
       "      <td>0</td>\n",
       "      <td>11393157.0</td>\n",
       "      <td>1</td>\n",
       "    </tr>\n",
       "  </tbody>\n",
       "</table>\n",
       "</div>"
      ],
      "text/plain": [
       "   Id  Score Estado    Genero  Idade  Patrimonio    Saldo  Produtos  \\\n",
       "0   1    619     RS  Feminino     42           2        0         1   \n",
       "1   2    608     SC  Feminino     41           1  8380786         1   \n",
       "2   3    502     RS  Feminino     42           8  1596608         3   \n",
       "\n",
       "   TemCartCredito  Ativo     Salario  Saiu  \n",
       "0               1      1  10134888.0     1  \n",
       "1               0      1  11254258.0     0  \n",
       "2               1      0  11393157.0     1  "
      ]
     },
     "execution_count": 51,
     "metadata": {},
     "output_type": "execute_result"
    }
   ],
   "source": [
    "#Vizualizando os dados\n",
    "base.head(3)"
   ]
  },
  {
   "cell_type": "markdown",
   "id": "7a8cdbff-2c48-4ada-aff7-92a34b3d2a82",
   "metadata": {},
   "source": [
    "### Agora com a exploração e tratamento de dados feitos, partiremos para as próximas etapas.."
   ]
  },
  {
   "cell_type": "code",
   "execution_count": null,
   "id": "5ae498be-b156-42b7-a40e-ae487211a6be",
   "metadata": {},
   "outputs": [],
   "source": []
  }
 ],
 "metadata": {
  "kernelspec": {
   "display_name": "Python 3 (ipykernel)",
   "language": "python",
   "name": "python3"
  },
  "language_info": {
   "codemirror_mode": {
    "name": "ipython",
    "version": 3
   },
   "file_extension": ".py",
   "mimetype": "text/x-python",
   "name": "python",
   "nbconvert_exporter": "python",
   "pygments_lexer": "ipython3",
   "version": "3.11.5"
  }
 },
 "nbformat": 4,
 "nbformat_minor": 5
}
