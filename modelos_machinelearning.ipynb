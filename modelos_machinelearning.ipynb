{
 "cells": [
  {
   "cell_type": "markdown",
   "id": "1eece10d-e6df-43e4-8371-f90bfea6e765",
   "metadata": {},
   "source": [
    "### Modelos de Machine Learning"
   ]
  },
  {
   "cell_type": "markdown",
   "id": "2f994275-99bc-47e2-a3cd-cc32deb9101b",
   "metadata": {},
   "source": [
    "#### Vamos começar importando novamente a base e fazendo os tratamentos anteriores"
   ]
  },
  {
   "cell_type": "code",
   "execution_count": 1,
   "id": "d8f55a06-7d71-4905-a3ac-907f91445990",
   "metadata": {
    "tags": []
   },
   "outputs": [],
   "source": [
    "# Importando a biblioteca pandas\n",
    "import pandas as pd"
   ]
  },
  {
   "cell_type": "code",
   "execution_count": 2,
   "id": "7ee896a2-1fd0-461e-b7a4-962984f64fab",
   "metadata": {
    "tags": []
   },
   "outputs": [],
   "source": [
    "# Visualizando a base de treino\n",
    "base = pd.read_csv('Churn.csv', sep = (';'))"
   ]
  },
  {
   "cell_type": "code",
   "execution_count": 3,
   "id": "2d08354a-fbbc-4a44-99a5-a435781af881",
   "metadata": {
    "tags": []
   },
   "outputs": [],
   "source": [
    "# Dando nome às colunas\n",
    "base.columns = [\"Id\",\"Score\",\"Estado\",\"Genero\",\"Idade\",\"Patrimonio\",\"Saldo\",\"Produtos\",\"TemCartCredito\",\n",
    "                    \"Ativo\",\"Salario\",\"Saiu\"]\n"
   ]
  },
  {
   "cell_type": "code",
   "execution_count": 4,
   "id": "96bea103-1f8c-4c3b-9182-be4db67b0c9c",
   "metadata": {
    "tags": []
   },
   "outputs": [],
   "source": [
    "#Excluimso pelo ID\n",
    "base.drop_duplicates(subset=\"Id\", keep='first',inplace=True)"
   ]
  },
  {
   "cell_type": "code",
   "execution_count": 5,
   "id": "beeffde9-32a9-45d4-ae94-95e9a38b490e",
   "metadata": {
    "tags": []
   },
   "outputs": [],
   "source": [
    "# Como masculino é a moda, substituiremos valores nulos por 'Masculino'\n",
    "base.loc[base.Genero.isnull(),'Genero'] = 'Masculino'"
   ]
  },
  {
   "cell_type": "code",
   "execution_count": 6,
   "id": "a845541c-ce77-4cfa-9a64-88da72b1cbca",
   "metadata": {
    "tags": []
   },
   "outputs": [],
   "source": [
    "# Descobrindo a mediana para poder substituir posteriormente\n",
    "import statistics  as sts\n",
    "mediana = sts.median(base['Salario'])"
   ]
  },
  {
   "cell_type": "code",
   "execution_count": 7,
   "id": "962859cc-2f17-463d-9e2f-91972f098f51",
   "metadata": {
    "tags": []
   },
   "outputs": [],
   "source": [
    "# Sabendo a mediana, substituiremos valores nulos pela\n",
    "base.loc[base.Salario.isnull(),'Salario'] = mediana"
   ]
  },
  {
   "cell_type": "code",
   "execution_count": 8,
   "id": "dffea45e-a6d3-4d6a-bf2b-5552bf5547a8",
   "metadata": {
    "tags": []
   },
   "outputs": [],
   "source": [
    "#Substituindo os valores 'M' por 'Masculino', 'F' e 'Fem' por 'Feminino'\n",
    "base.loc[base['Genero'] ==  'M', 'Genero'] = 'Masculino'\n",
    "base.loc[base['Genero'] ==  'F', 'Genero'] = 'Feminino'\n",
    "base.loc[base['Genero'] ==  'Fem', 'Genero'] = 'Feminino'"
   ]
  },
  {
   "cell_type": "code",
   "execution_count": 9,
   "id": "090431e0-f767-4539-980c-56f85fad6485",
   "metadata": {
    "tags": []
   },
   "outputs": [],
   "source": [
    "#Substituindo valores fora do domínio pela moda ('RS')\n",
    "base.loc[base['Estado'].isin(['RP','SP','TD']), 'Estado'] = 'RS'      "
   ]
  },
  {
   "cell_type": "code",
   "execution_count": 10,
   "id": "dbd53571-cea9-4306-a56f-525bee9939d8",
   "metadata": {
    "tags": []
   },
   "outputs": [],
   "source": [
    "#Tratando os valores (substituiremos os valores fora do domínio pela mediana)\n",
    "mediana = sts.median(base['Idade'])\n",
    "base.loc[(base['Idade'] <  0 )  | ( base['Idade'] >  120), 'Idade'] = mediana"
   ]
  },
  {
   "cell_type": "code",
   "execution_count": 11,
   "id": "df79e626-bc4e-4514-8d80-644a7505b8e2",
   "metadata": {
    "tags": []
   },
   "outputs": [],
   "source": [
    "#Por último só ajustaremos a coluna salário. Definiremos outliers em salário dados com mais de 2 desvios padrão.\n",
    "import statistics  as sts\n",
    "desv = sts.stdev(base['Salario'])"
   ]
  },
  {
   "cell_type": "code",
   "execution_count": 12,
   "id": "ae94f9bc-10f9-4ca9-86ea-fbfa56464074",
   "metadata": {
    "tags": []
   },
   "outputs": [],
   "source": [
    "#Substituiremos esses valores pela mediana\n",
    "mediana = sts.median(base['Salario'])\n",
    "base.loc[base['Salario'] >=  2 * desv, 'Salario'] = mediana"
   ]
  },
  {
   "cell_type": "markdown",
   "id": "d17e9b18-2941-4031-800e-e07b3019a240",
   "metadata": {},
   "source": [
    "### Agora começaremos o teste de 3 dos principais modelos de machine learning: Árvores de classificação, Regressão Logística e KNeighborsClassifier"
   ]
  },
  {
   "cell_type": "markdown",
   "id": "e5d6fb76-e2d9-4801-bd81-575fb16c5977",
   "metadata": {},
   "source": [
    "##### Primeiramente, vamos agora adicionar um novo tratamento das colunas de texto"
   ]
  },
  {
   "cell_type": "code",
   "execution_count": 13,
   "id": "85512673-e060-4bf6-b12f-b6322634a5fd",
   "metadata": {},
   "outputs": [
    {
     "data": {
      "text/html": [
       "<div>\n",
       "<style scoped>\n",
       "    .dataframe tbody tr th:only-of-type {\n",
       "        vertical-align: middle;\n",
       "    }\n",
       "\n",
       "    .dataframe tbody tr th {\n",
       "        vertical-align: top;\n",
       "    }\n",
       "\n",
       "    .dataframe thead th {\n",
       "        text-align: right;\n",
       "    }\n",
       "</style>\n",
       "<table border=\"1\" class=\"dataframe\">\n",
       "  <thead>\n",
       "    <tr style=\"text-align: right;\">\n",
       "      <th></th>\n",
       "      <th>Id</th>\n",
       "      <th>Score</th>\n",
       "      <th>Estado</th>\n",
       "      <th>Genero</th>\n",
       "      <th>Idade</th>\n",
       "      <th>Patrimonio</th>\n",
       "      <th>Saldo</th>\n",
       "      <th>Produtos</th>\n",
       "      <th>TemCartCredito</th>\n",
       "      <th>Ativo</th>\n",
       "      <th>Salario</th>\n",
       "      <th>Saiu</th>\n",
       "    </tr>\n",
       "  </thead>\n",
       "  <tbody>\n",
       "    <tr>\n",
       "      <th>0</th>\n",
       "      <td>1</td>\n",
       "      <td>619</td>\n",
       "      <td>RS</td>\n",
       "      <td>Feminino</td>\n",
       "      <td>42</td>\n",
       "      <td>2</td>\n",
       "      <td>0</td>\n",
       "      <td>1</td>\n",
       "      <td>1</td>\n",
       "      <td>1</td>\n",
       "      <td>10134888.0</td>\n",
       "      <td>1</td>\n",
       "    </tr>\n",
       "    <tr>\n",
       "      <th>1</th>\n",
       "      <td>2</td>\n",
       "      <td>608</td>\n",
       "      <td>SC</td>\n",
       "      <td>Feminino</td>\n",
       "      <td>41</td>\n",
       "      <td>1</td>\n",
       "      <td>8380786</td>\n",
       "      <td>1</td>\n",
       "      <td>0</td>\n",
       "      <td>1</td>\n",
       "      <td>11254258.0</td>\n",
       "      <td>0</td>\n",
       "    </tr>\n",
       "    <tr>\n",
       "      <th>2</th>\n",
       "      <td>3</td>\n",
       "      <td>502</td>\n",
       "      <td>RS</td>\n",
       "      <td>Feminino</td>\n",
       "      <td>42</td>\n",
       "      <td>8</td>\n",
       "      <td>1596608</td>\n",
       "      <td>3</td>\n",
       "      <td>1</td>\n",
       "      <td>0</td>\n",
       "      <td>11393157.0</td>\n",
       "      <td>1</td>\n",
       "    </tr>\n",
       "    <tr>\n",
       "      <th>3</th>\n",
       "      <td>4</td>\n",
       "      <td>699</td>\n",
       "      <td>RS</td>\n",
       "      <td>Feminino</td>\n",
       "      <td>39</td>\n",
       "      <td>1</td>\n",
       "      <td>0</td>\n",
       "      <td>2</td>\n",
       "      <td>0</td>\n",
       "      <td>0</td>\n",
       "      <td>9382663.0</td>\n",
       "      <td>0</td>\n",
       "    </tr>\n",
       "    <tr>\n",
       "      <th>4</th>\n",
       "      <td>5</td>\n",
       "      <td>850</td>\n",
       "      <td>SC</td>\n",
       "      <td>Feminino</td>\n",
       "      <td>43</td>\n",
       "      <td>2</td>\n",
       "      <td>12551082</td>\n",
       "      <td>1</td>\n",
       "      <td>1</td>\n",
       "      <td>1</td>\n",
       "      <td>790841.0</td>\n",
       "      <td>0</td>\n",
       "    </tr>\n",
       "    <tr>\n",
       "      <th>...</th>\n",
       "      <td>...</td>\n",
       "      <td>...</td>\n",
       "      <td>...</td>\n",
       "      <td>...</td>\n",
       "      <td>...</td>\n",
       "      <td>...</td>\n",
       "      <td>...</td>\n",
       "      <td>...</td>\n",
       "      <td>...</td>\n",
       "      <td>...</td>\n",
       "      <td>...</td>\n",
       "      <td>...</td>\n",
       "    </tr>\n",
       "    <tr>\n",
       "      <th>994</th>\n",
       "      <td>996</td>\n",
       "      <td>838</td>\n",
       "      <td>SC</td>\n",
       "      <td>Masculino</td>\n",
       "      <td>43</td>\n",
       "      <td>9</td>\n",
       "      <td>12310588</td>\n",
       "      <td>2</td>\n",
       "      <td>1</td>\n",
       "      <td>0</td>\n",
       "      <td>14576583.0</td>\n",
       "      <td>0</td>\n",
       "    </tr>\n",
       "    <tr>\n",
       "      <th>995</th>\n",
       "      <td>997</td>\n",
       "      <td>610</td>\n",
       "      <td>SC</td>\n",
       "      <td>Masculino</td>\n",
       "      <td>29</td>\n",
       "      <td>9</td>\n",
       "      <td>0</td>\n",
       "      <td>3</td>\n",
       "      <td>0</td>\n",
       "      <td>1</td>\n",
       "      <td>8391224.0</td>\n",
       "      <td>0</td>\n",
       "    </tr>\n",
       "    <tr>\n",
       "      <th>996</th>\n",
       "      <td>998</td>\n",
       "      <td>811</td>\n",
       "      <td>SC</td>\n",
       "      <td>Masculino</td>\n",
       "      <td>44</td>\n",
       "      <td>3</td>\n",
       "      <td>0</td>\n",
       "      <td>2</td>\n",
       "      <td>0</td>\n",
       "      <td>1</td>\n",
       "      <td>7843973.0</td>\n",
       "      <td>0</td>\n",
       "    </tr>\n",
       "    <tr>\n",
       "      <th>997</th>\n",
       "      <td>999</td>\n",
       "      <td>587</td>\n",
       "      <td>SC</td>\n",
       "      <td>Masculino</td>\n",
       "      <td>62</td>\n",
       "      <td>7</td>\n",
       "      <td>12128627</td>\n",
       "      <td>1</td>\n",
       "      <td>0</td>\n",
       "      <td>1</td>\n",
       "      <td>677692.0</td>\n",
       "      <td>0</td>\n",
       "    </tr>\n",
       "    <tr>\n",
       "      <th>998</th>\n",
       "      <td>1000</td>\n",
       "      <td>811</td>\n",
       "      <td>PR</td>\n",
       "      <td>Feminino</td>\n",
       "      <td>28</td>\n",
       "      <td>4</td>\n",
       "      <td>16773882</td>\n",
       "      <td>2</td>\n",
       "      <td>1</td>\n",
       "      <td>1</td>\n",
       "      <td>990342.0</td>\n",
       "      <td>0</td>\n",
       "    </tr>\n",
       "  </tbody>\n",
       "</table>\n",
       "<p>998 rows × 12 columns</p>\n",
       "</div>"
      ],
      "text/plain": [
       "       Id  Score Estado     Genero  Idade  Patrimonio     Saldo  Produtos  \\\n",
       "0       1    619     RS   Feminino     42           2         0         1   \n",
       "1       2    608     SC   Feminino     41           1   8380786         1   \n",
       "2       3    502     RS   Feminino     42           8   1596608         3   \n",
       "3       4    699     RS   Feminino     39           1         0         2   \n",
       "4       5    850     SC   Feminino     43           2  12551082         1   \n",
       "..    ...    ...    ...        ...    ...         ...       ...       ...   \n",
       "994   996    838     SC  Masculino     43           9  12310588         2   \n",
       "995   997    610     SC  Masculino     29           9         0         3   \n",
       "996   998    811     SC  Masculino     44           3         0         2   \n",
       "997   999    587     SC  Masculino     62           7  12128627         1   \n",
       "998  1000    811     PR   Feminino     28           4  16773882         2   \n",
       "\n",
       "     TemCartCredito  Ativo     Salario  Saiu  \n",
       "0                 1      1  10134888.0     1  \n",
       "1                 0      1  11254258.0     0  \n",
       "2                 1      0  11393157.0     1  \n",
       "3                 0      0   9382663.0     0  \n",
       "4                 1      1    790841.0     0  \n",
       "..              ...    ...         ...   ...  \n",
       "994               1      0  14576583.0     0  \n",
       "995               0      1   8391224.0     0  \n",
       "996               0      1   7843973.0     0  \n",
       "997               0      1    677692.0     0  \n",
       "998               1      1    990342.0     0  \n",
       "\n",
       "[998 rows x 12 columns]"
      ]
     },
     "execution_count": 13,
     "metadata": {},
     "output_type": "execute_result"
    }
   ],
   "source": [
    "# Visualizando a base de treino\n",
    "base"
   ]
  },
  {
   "cell_type": "code",
   "execution_count": 14,
   "id": "d94fa322-2e0b-4f9c-be3b-631715447649",
   "metadata": {},
   "outputs": [
    {
     "data": {
      "text/plain": [
       "Index(['Estado', 'Genero'], dtype='object')"
      ]
     },
     "execution_count": 14,
     "metadata": {},
     "output_type": "execute_result"
    }
   ],
   "source": [
    "# Verificando as colunas de texto na base de treino\n",
    "base.columns[base.dtypes == 'object']"
   ]
  },
  {
   "cell_type": "code",
   "execution_count": 15,
   "id": "c011b642-c81a-46db-8bfb-60b777e43c96",
   "metadata": {},
   "outputs": [
    {
     "data": {
      "text/plain": [
       "Estado\n",
       "RS    483\n",
       "SC    258\n",
       "PR    257\n",
       "Name: count, dtype: int64"
      ]
     },
     "execution_count": 15,
     "metadata": {},
     "output_type": "execute_result"
    }
   ],
   "source": [
    "# Verificando os valores na coluna Estado\n",
    "base.Estado.value_counts()"
   ]
  },
  {
   "cell_type": "code",
   "execution_count": 16,
   "id": "88e4cfb2-01f3-43b7-acca-3671033bcbe4",
   "metadata": {},
   "outputs": [
    {
     "data": {
      "text/plain": [
       "Genero\n",
       "Masculino    535\n",
       "Feminino     463\n",
       "Name: count, dtype: int64"
      ]
     },
     "execution_count": 16,
     "metadata": {},
     "output_type": "execute_result"
    }
   ],
   "source": [
    "# e na coluna Gênero\n",
    "base.Genero.value_counts()"
   ]
  },
  {
   "cell_type": "markdown",
   "id": "5ccd54bf-687e-4373-aaf8-7c5bd2b9fbb7",
   "metadata": {},
   "source": [
    "#### Para tratar a coluna Genero, podemos criar uma nova coluna chamada \"Masculino_Check\" que vai receber 1 se o gênero for masculino e 0 se o gênero for feminino"
   ]
  },
  {
   "cell_type": "code",
   "execution_count": 17,
   "id": "d87ebc6c-484a-42b0-a98e-0ae4cd48d715",
   "metadata": {},
   "outputs": [],
   "source": [
    "# Usando uma lambda function para fazer esse tratamento\n",
    "base['MasculinoCheck'] = base.Genero.apply(lambda x: 1 if x == 'Masculino' else 0)"
   ]
  },
  {
   "cell_type": "code",
   "execution_count": 18,
   "id": "3360c25d-7b79-4c6a-8880-5af6e2e553f1",
   "metadata": {},
   "outputs": [
    {
     "data": {
      "text/plain": [
       "Genero     MasculinoCheck\n",
       "Masculino  1                 535\n",
       "Feminino   0                 463\n",
       "Name: count, dtype: int64"
      ]
     },
     "execution_count": 18,
     "metadata": {},
     "output_type": "execute_result"
    }
   ],
   "source": [
    "# Verificando os valores\n",
    "base[['Genero','MasculinoCheck']].value_counts()"
   ]
  },
  {
   "cell_type": "markdown",
   "id": "68b27d62-1905-4650-bbdb-24a5f7e6872a",
   "metadata": {},
   "source": [
    "#### Agora, para tratar a coluna Estado usando o OneHotEncoder que irá criar uma nova coluna para cada um dos rótulos da coluna original"
   ]
  },
  {
   "cell_type": "code",
   "execution_count": 19,
   "id": "057f3e35-0bd3-4ffa-a2cc-b45aada3cdd9",
   "metadata": {},
   "outputs": [],
   "source": [
    "# Importando o OneHotEncoder\n",
    "from sklearn.preprocessing import OneHotEncoder"
   ]
  },
  {
   "cell_type": "code",
   "execution_count": 20,
   "id": "007a433c-bbfa-4b20-b4eb-edac5fb28509",
   "metadata": {},
   "outputs": [],
   "source": [
    "# Criando o encoder\n",
    "ohe = OneHotEncoder(handle_unknown='ignore',dtype='int32')"
   ]
  },
  {
   "cell_type": "code",
   "execution_count": 21,
   "id": "bc023754-d390-4602-8294-a673d8f47763",
   "metadata": {},
   "outputs": [],
   "source": [
    "# Fazendo o fit com os dados\n",
    "ohe = ohe.fit(base[['Estado']])"
   ]
  },
  {
   "cell_type": "code",
   "execution_count": 22,
   "id": "8c1274f2-b8d1-481c-b7fa-62a387e2c202",
   "metadata": {},
   "outputs": [
    {
     "data": {
      "text/plain": [
       "array([[0, 1, 0],\n",
       "       [0, 0, 1],\n",
       "       [0, 1, 0],\n",
       "       ...,\n",
       "       [0, 0, 1],\n",
       "       [0, 0, 1],\n",
       "       [1, 0, 0]])"
      ]
     },
     "execution_count": 22,
     "metadata": {},
     "output_type": "execute_result"
    }
   ],
   "source": [
    "# Fazendo a transformação\n",
    "ohe.transform(base[['Estado']]).toarray()"
   ]
  },
  {
   "cell_type": "code",
   "execution_count": 23,
   "id": "f03ce9df-5324-4f7a-a540-29f504cf4158",
   "metadata": {},
   "outputs": [
    {
     "data": {
      "text/html": [
       "<div>\n",
       "<style scoped>\n",
       "    .dataframe tbody tr th:only-of-type {\n",
       "        vertical-align: middle;\n",
       "    }\n",
       "\n",
       "    .dataframe tbody tr th {\n",
       "        vertical-align: top;\n",
       "    }\n",
       "\n",
       "    .dataframe thead th {\n",
       "        text-align: right;\n",
       "    }\n",
       "</style>\n",
       "<table border=\"1\" class=\"dataframe\">\n",
       "  <thead>\n",
       "    <tr style=\"text-align: right;\">\n",
       "      <th></th>\n",
       "      <th>Estado_PR</th>\n",
       "      <th>Estado_RS</th>\n",
       "      <th>Estado_SC</th>\n",
       "    </tr>\n",
       "  </thead>\n",
       "  <tbody>\n",
       "    <tr>\n",
       "      <th>0</th>\n",
       "      <td>0</td>\n",
       "      <td>1</td>\n",
       "      <td>0</td>\n",
       "    </tr>\n",
       "    <tr>\n",
       "      <th>1</th>\n",
       "      <td>0</td>\n",
       "      <td>0</td>\n",
       "      <td>1</td>\n",
       "    </tr>\n",
       "    <tr>\n",
       "      <th>2</th>\n",
       "      <td>0</td>\n",
       "      <td>1</td>\n",
       "      <td>0</td>\n",
       "    </tr>\n",
       "  </tbody>\n",
       "</table>\n",
       "</div>"
      ],
      "text/plain": [
       "   Estado_PR  Estado_RS  Estado_SC\n",
       "0          0          1          0\n",
       "1          0          0          1\n",
       "2          0          1          0"
      ]
     },
     "execution_count": 23,
     "metadata": {},
     "output_type": "execute_result"
    }
   ],
   "source": [
    "# Transformando esse resultado em um DataFrame\n",
    "ohe_df = pd.DataFrame(ohe.transform(base[['Estado']]).toarray(),columns=ohe.get_feature_names_out())\n",
    "ohe_df.head(3)"
   ]
  },
  {
   "cell_type": "code",
   "execution_count": 24,
   "id": "9a09f1df-4c11-41a1-89cf-f90cfc923572",
   "metadata": {},
   "outputs": [],
   "source": [
    "# Podemos agora adicionar essa coluna na nossa base de treino\n",
    "base = pd.concat([base,ohe_df],axis=1)"
   ]
  },
  {
   "cell_type": "code",
   "execution_count": 25,
   "id": "bd2577cc-dbc5-43fc-9f0b-a2dce14447e1",
   "metadata": {},
   "outputs": [
    {
     "data": {
      "text/plain": [
       "Estado_PR  Estado_RS  Estado_SC\n",
       "0.0        1.0        0.0          483\n",
       "           0.0        1.0          258\n",
       "1.0        0.0        0.0          257\n",
       "Name: count, dtype: int64"
      ]
     },
     "execution_count": 25,
     "metadata": {},
     "output_type": "execute_result"
    }
   ],
   "source": [
    "\n",
    "# Verificando os valores\n",
    "base[['Estado_PR','Estado_RS','Estado_SC']].value_counts()"
   ]
  },
  {
   "cell_type": "markdown",
   "id": "29afc546-c326-4e95-a9d3-bf36ff4f7ded",
   "metadata": {},
   "source": [
    "### Usando essa nova base no modelo"
   ]
  },
  {
   "cell_type": "code",
   "execution_count": 26,
   "id": "d2a5a9b1-35b0-427e-8247-dbc47df5843d",
   "metadata": {},
   "outputs": [],
   "source": [
    "# Podemos então apagar essas duas colunas que já tratamos\n",
    "base = base.drop(['Estado','Genero'],axis=1)"
   ]
  },
  {
   "cell_type": "code",
   "execution_count": 27,
   "id": "98f612d5-25e1-481c-b271-5af3613751dc",
   "metadata": {},
   "outputs": [
    {
     "data": {
      "text/html": [
       "<div>\n",
       "<style scoped>\n",
       "    .dataframe tbody tr th:only-of-type {\n",
       "        vertical-align: middle;\n",
       "    }\n",
       "\n",
       "    .dataframe tbody tr th {\n",
       "        vertical-align: top;\n",
       "    }\n",
       "\n",
       "    .dataframe thead th {\n",
       "        text-align: right;\n",
       "    }\n",
       "</style>\n",
       "<table border=\"1\" class=\"dataframe\">\n",
       "  <thead>\n",
       "    <tr style=\"text-align: right;\">\n",
       "      <th></th>\n",
       "      <th>Id</th>\n",
       "      <th>Score</th>\n",
       "      <th>Idade</th>\n",
       "      <th>Patrimonio</th>\n",
       "      <th>Saldo</th>\n",
       "      <th>Produtos</th>\n",
       "      <th>TemCartCredito</th>\n",
       "      <th>Ativo</th>\n",
       "      <th>Salario</th>\n",
       "      <th>Saiu</th>\n",
       "      <th>MasculinoCheck</th>\n",
       "      <th>Estado_PR</th>\n",
       "      <th>Estado_RS</th>\n",
       "      <th>Estado_SC</th>\n",
       "    </tr>\n",
       "  </thead>\n",
       "  <tbody>\n",
       "    <tr>\n",
       "      <th>0</th>\n",
       "      <td>1.0</td>\n",
       "      <td>619.0</td>\n",
       "      <td>42.0</td>\n",
       "      <td>2.0</td>\n",
       "      <td>0.0</td>\n",
       "      <td>1.0</td>\n",
       "      <td>1.0</td>\n",
       "      <td>1.0</td>\n",
       "      <td>10134888.0</td>\n",
       "      <td>1.0</td>\n",
       "      <td>0.0</td>\n",
       "      <td>0.0</td>\n",
       "      <td>1.0</td>\n",
       "      <td>0.0</td>\n",
       "    </tr>\n",
       "    <tr>\n",
       "      <th>1</th>\n",
       "      <td>2.0</td>\n",
       "      <td>608.0</td>\n",
       "      <td>41.0</td>\n",
       "      <td>1.0</td>\n",
       "      <td>8380786.0</td>\n",
       "      <td>1.0</td>\n",
       "      <td>0.0</td>\n",
       "      <td>1.0</td>\n",
       "      <td>11254258.0</td>\n",
       "      <td>0.0</td>\n",
       "      <td>0.0</td>\n",
       "      <td>0.0</td>\n",
       "      <td>0.0</td>\n",
       "      <td>1.0</td>\n",
       "    </tr>\n",
       "    <tr>\n",
       "      <th>2</th>\n",
       "      <td>3.0</td>\n",
       "      <td>502.0</td>\n",
       "      <td>42.0</td>\n",
       "      <td>8.0</td>\n",
       "      <td>1596608.0</td>\n",
       "      <td>3.0</td>\n",
       "      <td>1.0</td>\n",
       "      <td>0.0</td>\n",
       "      <td>11393157.0</td>\n",
       "      <td>1.0</td>\n",
       "      <td>0.0</td>\n",
       "      <td>0.0</td>\n",
       "      <td>1.0</td>\n",
       "      <td>0.0</td>\n",
       "    </tr>\n",
       "    <tr>\n",
       "      <th>3</th>\n",
       "      <td>4.0</td>\n",
       "      <td>699.0</td>\n",
       "      <td>39.0</td>\n",
       "      <td>1.0</td>\n",
       "      <td>0.0</td>\n",
       "      <td>2.0</td>\n",
       "      <td>0.0</td>\n",
       "      <td>0.0</td>\n",
       "      <td>9382663.0</td>\n",
       "      <td>0.0</td>\n",
       "      <td>0.0</td>\n",
       "      <td>0.0</td>\n",
       "      <td>1.0</td>\n",
       "      <td>0.0</td>\n",
       "    </tr>\n",
       "    <tr>\n",
       "      <th>4</th>\n",
       "      <td>5.0</td>\n",
       "      <td>850.0</td>\n",
       "      <td>43.0</td>\n",
       "      <td>2.0</td>\n",
       "      <td>12551082.0</td>\n",
       "      <td>1.0</td>\n",
       "      <td>1.0</td>\n",
       "      <td>1.0</td>\n",
       "      <td>790841.0</td>\n",
       "      <td>0.0</td>\n",
       "      <td>0.0</td>\n",
       "      <td>0.0</td>\n",
       "      <td>0.0</td>\n",
       "      <td>1.0</td>\n",
       "    </tr>\n",
       "    <tr>\n",
       "      <th>...</th>\n",
       "      <td>...</td>\n",
       "      <td>...</td>\n",
       "      <td>...</td>\n",
       "      <td>...</td>\n",
       "      <td>...</td>\n",
       "      <td>...</td>\n",
       "      <td>...</td>\n",
       "      <td>...</td>\n",
       "      <td>...</td>\n",
       "      <td>...</td>\n",
       "      <td>...</td>\n",
       "      <td>...</td>\n",
       "      <td>...</td>\n",
       "      <td>...</td>\n",
       "    </tr>\n",
       "    <tr>\n",
       "      <th>995</th>\n",
       "      <td>997.0</td>\n",
       "      <td>610.0</td>\n",
       "      <td>29.0</td>\n",
       "      <td>9.0</td>\n",
       "      <td>0.0</td>\n",
       "      <td>3.0</td>\n",
       "      <td>0.0</td>\n",
       "      <td>1.0</td>\n",
       "      <td>8391224.0</td>\n",
       "      <td>0.0</td>\n",
       "      <td>1.0</td>\n",
       "      <td>0.0</td>\n",
       "      <td>0.0</td>\n",
       "      <td>1.0</td>\n",
       "    </tr>\n",
       "    <tr>\n",
       "      <th>996</th>\n",
       "      <td>998.0</td>\n",
       "      <td>811.0</td>\n",
       "      <td>44.0</td>\n",
       "      <td>3.0</td>\n",
       "      <td>0.0</td>\n",
       "      <td>2.0</td>\n",
       "      <td>0.0</td>\n",
       "      <td>1.0</td>\n",
       "      <td>7843973.0</td>\n",
       "      <td>0.0</td>\n",
       "      <td>1.0</td>\n",
       "      <td>0.0</td>\n",
       "      <td>0.0</td>\n",
       "      <td>1.0</td>\n",
       "    </tr>\n",
       "    <tr>\n",
       "      <th>997</th>\n",
       "      <td>999.0</td>\n",
       "      <td>587.0</td>\n",
       "      <td>62.0</td>\n",
       "      <td>7.0</td>\n",
       "      <td>12128627.0</td>\n",
       "      <td>1.0</td>\n",
       "      <td>0.0</td>\n",
       "      <td>1.0</td>\n",
       "      <td>677692.0</td>\n",
       "      <td>0.0</td>\n",
       "      <td>1.0</td>\n",
       "      <td>1.0</td>\n",
       "      <td>0.0</td>\n",
       "      <td>0.0</td>\n",
       "    </tr>\n",
       "    <tr>\n",
       "      <th>998</th>\n",
       "      <td>1000.0</td>\n",
       "      <td>811.0</td>\n",
       "      <td>28.0</td>\n",
       "      <td>4.0</td>\n",
       "      <td>16773882.0</td>\n",
       "      <td>2.0</td>\n",
       "      <td>1.0</td>\n",
       "      <td>1.0</td>\n",
       "      <td>990342.0</td>\n",
       "      <td>0.0</td>\n",
       "      <td>0.0</td>\n",
       "      <td>NaN</td>\n",
       "      <td>NaN</td>\n",
       "      <td>NaN</td>\n",
       "    </tr>\n",
       "    <tr>\n",
       "      <th>81</th>\n",
       "      <td>NaN</td>\n",
       "      <td>NaN</td>\n",
       "      <td>NaN</td>\n",
       "      <td>NaN</td>\n",
       "      <td>NaN</td>\n",
       "      <td>NaN</td>\n",
       "      <td>NaN</td>\n",
       "      <td>NaN</td>\n",
       "      <td>NaN</td>\n",
       "      <td>NaN</td>\n",
       "      <td>NaN</td>\n",
       "      <td>0.0</td>\n",
       "      <td>1.0</td>\n",
       "      <td>0.0</td>\n",
       "    </tr>\n",
       "  </tbody>\n",
       "</table>\n",
       "<p>999 rows × 14 columns</p>\n",
       "</div>"
      ],
      "text/plain": [
       "         Id  Score  Idade  Patrimonio       Saldo  Produtos  TemCartCredito  \\\n",
       "0       1.0  619.0   42.0         2.0         0.0       1.0             1.0   \n",
       "1       2.0  608.0   41.0         1.0   8380786.0       1.0             0.0   \n",
       "2       3.0  502.0   42.0         8.0   1596608.0       3.0             1.0   \n",
       "3       4.0  699.0   39.0         1.0         0.0       2.0             0.0   \n",
       "4       5.0  850.0   43.0         2.0  12551082.0       1.0             1.0   \n",
       "..      ...    ...    ...         ...         ...       ...             ...   \n",
       "995   997.0  610.0   29.0         9.0         0.0       3.0             0.0   \n",
       "996   998.0  811.0   44.0         3.0         0.0       2.0             0.0   \n",
       "997   999.0  587.0   62.0         7.0  12128627.0       1.0             0.0   \n",
       "998  1000.0  811.0   28.0         4.0  16773882.0       2.0             1.0   \n",
       "81      NaN    NaN    NaN         NaN         NaN       NaN             NaN   \n",
       "\n",
       "     Ativo     Salario  Saiu  MasculinoCheck  Estado_PR  Estado_RS  Estado_SC  \n",
       "0      1.0  10134888.0   1.0             0.0        0.0        1.0        0.0  \n",
       "1      1.0  11254258.0   0.0             0.0        0.0        0.0        1.0  \n",
       "2      0.0  11393157.0   1.0             0.0        0.0        1.0        0.0  \n",
       "3      0.0   9382663.0   0.0             0.0        0.0        1.0        0.0  \n",
       "4      1.0    790841.0   0.0             0.0        0.0        0.0        1.0  \n",
       "..     ...         ...   ...             ...        ...        ...        ...  \n",
       "995    1.0   8391224.0   0.0             1.0        0.0        0.0        1.0  \n",
       "996    1.0   7843973.0   0.0             1.0        0.0        0.0        1.0  \n",
       "997    1.0    677692.0   0.0             1.0        1.0        0.0        0.0  \n",
       "998    1.0    990342.0   0.0             0.0        NaN        NaN        NaN  \n",
       "81     NaN         NaN   NaN             NaN        0.0        1.0        0.0  \n",
       "\n",
       "[999 rows x 14 columns]"
      ]
     },
     "execution_count": 27,
     "metadata": {},
     "output_type": "execute_result"
    }
   ],
   "source": [
    "base"
   ]
  },
  {
   "cell_type": "code",
   "execution_count": 28,
   "id": "7f092541-848d-4017-81c8-d2ea479b3278",
   "metadata": {},
   "outputs": [
    {
     "data": {
      "text/plain": [
       "Id                1\n",
       "Score             1\n",
       "Idade             1\n",
       "Patrimonio        1\n",
       "Saldo             1\n",
       "Produtos          1\n",
       "TemCartCredito    1\n",
       "Ativo             1\n",
       "Salario           1\n",
       "Saiu              1\n",
       "MasculinoCheck    1\n",
       "Estado_PR         1\n",
       "Estado_RS         1\n",
       "Estado_SC         1\n",
       "dtype: int64"
      ]
     },
     "execution_count": 28,
     "metadata": {},
     "output_type": "execute_result"
    }
   ],
   "source": [
    "#Verificando possíveis adições de dados faltantes\n",
    "base.isnull().sum().sort_values(ascending=False)"
   ]
  },
  {
   "cell_type": "code",
   "execution_count": 29,
   "id": "e6b8cbb0-1bc1-4e8d-bb06-0750f0edf8b4",
   "metadata": {},
   "outputs": [],
   "source": [
    "#Excluindo a linha com valores faltantes\n",
    "base = base.drop(81)"
   ]
  },
  {
   "cell_type": "code",
   "execution_count": 30,
   "id": "4def2ae8-dec5-4e33-87ac-16b79d4590ac",
   "metadata": {},
   "outputs": [
    {
     "data": {
      "text/html": [
       "<div>\n",
       "<style scoped>\n",
       "    .dataframe tbody tr th:only-of-type {\n",
       "        vertical-align: middle;\n",
       "    }\n",
       "\n",
       "    .dataframe tbody tr th {\n",
       "        vertical-align: top;\n",
       "    }\n",
       "\n",
       "    .dataframe thead th {\n",
       "        text-align: right;\n",
       "    }\n",
       "</style>\n",
       "<table border=\"1\" class=\"dataframe\">\n",
       "  <thead>\n",
       "    <tr style=\"text-align: right;\">\n",
       "      <th></th>\n",
       "      <th>Id</th>\n",
       "      <th>Score</th>\n",
       "      <th>Idade</th>\n",
       "      <th>Patrimonio</th>\n",
       "      <th>Saldo</th>\n",
       "      <th>Produtos</th>\n",
       "      <th>TemCartCredito</th>\n",
       "      <th>Ativo</th>\n",
       "      <th>Salario</th>\n",
       "      <th>Saiu</th>\n",
       "      <th>MasculinoCheck</th>\n",
       "      <th>Estado_PR</th>\n",
       "      <th>Estado_RS</th>\n",
       "      <th>Estado_SC</th>\n",
       "    </tr>\n",
       "  </thead>\n",
       "  <tbody>\n",
       "    <tr>\n",
       "      <th>998</th>\n",
       "      <td>1000.0</td>\n",
       "      <td>811.0</td>\n",
       "      <td>28.0</td>\n",
       "      <td>4.0</td>\n",
       "      <td>16773882.0</td>\n",
       "      <td>2.0</td>\n",
       "      <td>1.0</td>\n",
       "      <td>1.0</td>\n",
       "      <td>990342.0</td>\n",
       "      <td>0.0</td>\n",
       "      <td>0.0</td>\n",
       "      <td>NaN</td>\n",
       "      <td>NaN</td>\n",
       "      <td>NaN</td>\n",
       "    </tr>\n",
       "  </tbody>\n",
       "</table>\n",
       "</div>"
      ],
      "text/plain": [
       "         Id  Score  Idade  Patrimonio       Saldo  Produtos  TemCartCredito  \\\n",
       "998  1000.0  811.0   28.0         4.0  16773882.0       2.0             1.0   \n",
       "\n",
       "     Ativo   Salario  Saiu  MasculinoCheck  Estado_PR  Estado_RS  Estado_SC  \n",
       "998    1.0  990342.0   0.0             0.0        NaN        NaN        NaN  "
      ]
     },
     "execution_count": 30,
     "metadata": {},
     "output_type": "execute_result"
    }
   ],
   "source": [
    "#Verificando outras linhas com dados faltantes\n",
    "linhas_com_nulos = base[base.isnull().any(axis=1)]\n",
    "linhas_com_nulos"
   ]
  },
  {
   "cell_type": "code",
   "execution_count": 31,
   "id": "f0b1121f-f2c5-429e-9368-545d34f842af",
   "metadata": {},
   "outputs": [],
   "source": [
    "#Substituindo os dados faltantes da linha 998 pela moda (RS)\n",
    "base.loc[base.Estado_PR.isnull(),'Estado_PR'] = 0.0\n",
    "base.loc[base.Estado_RS.isnull(),'Estado_RS'] = 1.0\n",
    "base.loc[base.Estado_SC.isnull(),'Estado_SC'] = 0.0\n"
   ]
  },
  {
   "cell_type": "code",
   "execution_count": 32,
   "id": "e06f158f-db45-4b72-a61b-aaff92cbf4e6",
   "metadata": {},
   "outputs": [
    {
     "data": {
      "text/plain": [
       "Id                0\n",
       "Score             0\n",
       "Idade             0\n",
       "Patrimonio        0\n",
       "Saldo             0\n",
       "Produtos          0\n",
       "TemCartCredito    0\n",
       "Ativo             0\n",
       "Salario           0\n",
       "Saiu              0\n",
       "MasculinoCheck    0\n",
       "Estado_PR         0\n",
       "Estado_RS         0\n",
       "Estado_SC         0\n",
       "dtype: int64"
      ]
     },
     "execution_count": 32,
     "metadata": {},
     "output_type": "execute_result"
    }
   ],
   "source": [
    "#Verificando novamente dados faltantes restantes\n",
    "base.isnull().sum().sort_values(ascending=False)"
   ]
  },
  {
   "cell_type": "code",
   "execution_count": 33,
   "id": "b19e658c-5b11-4bd2-a1a2-fbb921e1a896",
   "metadata": {},
   "outputs": [],
   "source": [
    "# Importando o train_test_split\n",
    "from sklearn.model_selection import train_test_split"
   ]
  },
  {
   "cell_type": "code",
   "execution_count": 34,
   "id": "b499157f-1805-4148-ba9f-e123d1a862d3",
   "metadata": {},
   "outputs": [
    {
     "data": {
      "text/plain": [
       "0      1.0\n",
       "1      0.0\n",
       "2      1.0\n",
       "3      0.0\n",
       "4      0.0\n",
       "      ... \n",
       "994    0.0\n",
       "995    0.0\n",
       "996    0.0\n",
       "997    0.0\n",
       "998    0.0\n",
       "Name: Saiu, Length: 998, dtype: float64"
      ]
     },
     "execution_count": 34,
     "metadata": {},
     "output_type": "execute_result"
    }
   ],
   "source": [
    "# Separando previsores a classe\n",
    "X = base.iloc[:, [0, 1, 2, 3, 4, 5, 6, 7, 8, 10, 11, 12, 13]]  # Todas as linhas, colunas 0 a 8\n",
    "y = base.iloc[:, 9]   # Todas as linhas, apenas a coluna 9\n",
    "y"
   ]
  },
  {
   "cell_type": "code",
   "execution_count": 35,
   "id": "a1cd0b66-fe05-409d-9c51-6ae2222ccb75",
   "metadata": {},
   "outputs": [],
   "source": [
    "# Separando em treino e validação\n",
    "X_train, X_val, y_train, y_val = train_test_split(X, y, test_size=0.33, random_state=42)"
   ]
  },
  {
   "cell_type": "markdown",
   "id": "c36051f7-457d-4f9e-af1e-3ffcff9381f6",
   "metadata": {},
   "source": [
    "#### -Para Árvore de Decisão"
   ]
  },
  {
   "cell_type": "code",
   "execution_count": 36,
   "id": "af827096-b190-44c0-98de-e44fc6ddcb0f",
   "metadata": {},
   "outputs": [],
   "source": [
    "# Fazendo a importação\n",
    "from sklearn import tree"
   ]
  },
  {
   "cell_type": "code",
   "execution_count": 37,
   "id": "1e710b86-32c9-443e-84ef-91d60e24fe59",
   "metadata": {},
   "outputs": [],
   "source": [
    "# Criando o classificador\n",
    "clf_ac = tree.DecisionTreeClassifier(random_state=42)"
   ]
  },
  {
   "cell_type": "code",
   "execution_count": 38,
   "id": "14f9e90b-65d4-4435-97b3-e720a1975538",
   "metadata": {},
   "outputs": [],
   "source": [
    "# Fazendo o fit com os dados\n",
    "clf_ac = clf_ac.fit(X_train,y_train)"
   ]
  },
  {
   "cell_type": "code",
   "execution_count": 39,
   "id": "8416db5d-c48c-454a-9827-89747b67407b",
   "metadata": {},
   "outputs": [],
   "source": [
    "# Fazendo a previsão\n",
    "y_pred_ac = clf_ac.predict(X_val)"
   ]
  },
  {
   "cell_type": "markdown",
   "id": "f8365d30-09b3-4471-9a58-f93e3939dc50",
   "metadata": {},
   "source": [
    "#### -Para o KNeighbors"
   ]
  },
  {
   "cell_type": "code",
   "execution_count": 40,
   "id": "1e66f882-e1c9-4e31-9430-161f6bae8968",
   "metadata": {},
   "outputs": [],
   "source": [
    "# Importando\n",
    "from sklearn.neighbors import KNeighborsClassifier"
   ]
  },
  {
   "cell_type": "code",
   "execution_count": 41,
   "id": "59caf1f3-256f-4372-ba6c-57345fa03de1",
   "metadata": {},
   "outputs": [],
   "source": [
    "# Criando o classificador\n",
    "clf_knn = KNeighborsClassifier(n_neighbors=3)"
   ]
  },
  {
   "cell_type": "code",
   "execution_count": 42,
   "id": "8d6bb5c4-3eb9-476e-8553-56ef16164eb2",
   "metadata": {},
   "outputs": [],
   "source": [
    "# Fazendo o fit com os dados\n",
    "clf_knn = clf_knn.fit(X_train,y_train)"
   ]
  },
  {
   "cell_type": "code",
   "execution_count": 43,
   "id": "72f03629-3e7b-46fa-a63b-af0f35f2afd1",
   "metadata": {},
   "outputs": [],
   "source": [
    "# Fazendo a previsão\n",
    "y_pred_knn = clf_knn.predict(X_val)"
   ]
  },
  {
   "cell_type": "markdown",
   "id": "e38f5265-faa6-448c-bd2c-579043f6b1a5",
   "metadata": {},
   "source": [
    "#### -Para a Regressão Logística"
   ]
  },
  {
   "cell_type": "code",
   "execution_count": 44,
   "id": "a1a4b550-8127-4f9b-8cab-b91842813033",
   "metadata": {},
   "outputs": [],
   "source": [
    "# Importando\n",
    "from sklearn.linear_model import LogisticRegression"
   ]
  },
  {
   "cell_type": "code",
   "execution_count": 45,
   "id": "ca3e5386-275c-4fd3-b61e-5f199cfab726",
   "metadata": {},
   "outputs": [],
   "source": [
    "# Criando o classificador\n",
    "clf_rl = LogisticRegression(random_state=42,max_iter=1000)"
   ]
  },
  {
   "cell_type": "code",
   "execution_count": 46,
   "id": "fc005c49-2f71-46aa-ab01-db50541ce8c6",
   "metadata": {},
   "outputs": [],
   "source": [
    "# Fazendo o fit com os dados\n",
    "clf_rl = clf_rl.fit(X_train,y_train)"
   ]
  },
  {
   "cell_type": "code",
   "execution_count": 47,
   "id": "9896d38c-80ce-4aec-a54f-5a4fd6df2437",
   "metadata": {},
   "outputs": [],
   "source": [
    "# Fazendo a previsão\n",
    "y_pred_rl = clf_rl.predict(X_val)"
   ]
  },
  {
   "cell_type": "markdown",
   "id": "9bc4423e-3ef4-4e2a-bbd9-f69597c51f13",
   "metadata": {},
   "source": [
    "### Agora vamos avaliar a acurácia dos modelos"
   ]
  },
  {
   "cell_type": "code",
   "execution_count": 240,
   "id": "f2400006-6155-4e6f-bea6-ee7c6b458be7",
   "metadata": {},
   "outputs": [],
   "source": [
    "# Importando\n",
    "from sklearn.metrics import accuracy_score"
   ]
  },
  {
   "cell_type": "code",
   "execution_count": 241,
   "id": "503ac2f4-9729-4d7d-8315-2d57f097c076",
   "metadata": {},
   "outputs": [
    {
     "data": {
      "text/plain": [
       "0.8303030303030303"
      ]
     },
     "execution_count": 241,
     "metadata": {},
     "output_type": "execute_result"
    }
   ],
   "source": [
    "# Para a árvore\n",
    "acuracia_ac = accuracy_score(y_val, y_pred_ac)\n",
    "acuracia_ac"
   ]
  },
  {
   "cell_type": "code",
   "execution_count": 242,
   "id": "25ec65c7-d2aa-405e-94b4-2e35f0c4452a",
   "metadata": {},
   "outputs": [
    {
     "data": {
      "text/plain": [
       "0.7181818181818181"
      ]
     },
     "execution_count": 242,
     "metadata": {},
     "output_type": "execute_result"
    }
   ],
   "source": [
    "# Para o knn\n",
    "acuracia_kmn = accuracy_score(y_val, y_pred_knn)\n",
    "acuracia_kmn"
   ]
  },
  {
   "cell_type": "code",
   "execution_count": 243,
   "id": "419cbe44-b61d-48ed-8f8c-3ed418d643d1",
   "metadata": {},
   "outputs": [
    {
     "data": {
      "text/plain": [
       "0.7878787878787878"
      ]
     },
     "execution_count": 243,
     "metadata": {},
     "output_type": "execute_result"
    }
   ],
   "source": [
    "# Para a regressão logística\n",
    "acuracia_rl = accuracy_score(y_val, y_pred_rl)\n",
    "acuracia_rl"
   ]
  },
  {
   "cell_type": "markdown",
   "id": "d8b8102e-df9b-4c5d-b17e-904103159294",
   "metadata": {},
   "source": [
    "### Avaliando Matriz de Confusão"
   ]
  },
  {
   "cell_type": "code",
   "execution_count": 244,
   "id": "8be681be-321a-45d2-9677-2a5b05d42954",
   "metadata": {},
   "outputs": [],
   "source": [
    "# Importando\n",
    "from sklearn.metrics import confusion_matrix"
   ]
  },
  {
   "cell_type": "code",
   "execution_count": 245,
   "id": "c1bef0ff-1f11-4880-b294-72ef6b255b8b",
   "metadata": {},
   "outputs": [
    {
     "data": {
      "text/plain": [
       "array([[244,  21],\n",
       "       [ 35,  30]], dtype=int64)"
      ]
     },
     "execution_count": 245,
     "metadata": {},
     "output_type": "execute_result"
    }
   ],
   "source": [
    "# Para a árvore\n",
    "confusion_matrix(y_val, y_pred_ac)"
   ]
  },
  {
   "cell_type": "code",
   "execution_count": 246,
   "id": "e2cb1e3e-0008-45e8-a5a1-c9a3dfbd3e05",
   "metadata": {},
   "outputs": [
    {
     "data": {
      "text/plain": [
       "array([[231,  34],\n",
       "       [ 59,   6]], dtype=int64)"
      ]
     },
     "execution_count": 246,
     "metadata": {},
     "output_type": "execute_result"
    }
   ],
   "source": [
    "# Para o knn\n",
    "confusion_matrix(y_val, y_pred_knn)"
   ]
  },
  {
   "cell_type": "code",
   "execution_count": 247,
   "id": "a6f9c84d-f24a-429c-856c-0ec794ba20cc",
   "metadata": {},
   "outputs": [
    {
     "data": {
      "text/plain": [
       "array([[257,   8],\n",
       "       [ 62,   3]], dtype=int64)"
      ]
     },
     "execution_count": 247,
     "metadata": {},
     "output_type": "execute_result"
    }
   ],
   "source": [
    "# Para a regressão logística\n",
    "confusion_matrix(y_val, y_pred_rl)"
   ]
  },
  {
   "cell_type": "markdown",
   "id": "bb4cc6c1-d327-4f3a-9507-19b390026c20",
   "metadata": {},
   "source": [
    "### Criando um dataframe para guardar os resultados"
   ]
  },
  {
   "cell_type": "code",
   "execution_count": 257,
   "id": "8811368c-52cc-4f64-bc8d-ea517d8ea717",
   "metadata": {},
   "outputs": [
    {
     "data": {
      "text/html": [
       "<div>\n",
       "<style scoped>\n",
       "    .dataframe tbody tr th:only-of-type {\n",
       "        vertical-align: middle;\n",
       "    }\n",
       "\n",
       "    .dataframe tbody tr th {\n",
       "        vertical-align: top;\n",
       "    }\n",
       "\n",
       "    .dataframe thead th {\n",
       "        text-align: right;\n",
       "    }\n",
       "</style>\n",
       "<table border=\"1\" class=\"dataframe\">\n",
       "  <thead>\n",
       "    <tr style=\"text-align: right;\">\n",
       "      <th></th>\n",
       "      <th>Modelos</th>\n",
       "      <th>Acuracia</th>\n",
       "    </tr>\n",
       "  </thead>\n",
       "  <tbody>\n",
       "    <tr>\n",
       "      <th>0</th>\n",
       "      <td>arvore</td>\n",
       "      <td>0.830303</td>\n",
       "    </tr>\n",
       "    <tr>\n",
       "      <th>1</th>\n",
       "      <td>knn</td>\n",
       "      <td>0.718182</td>\n",
       "    </tr>\n",
       "    <tr>\n",
       "      <th>2</th>\n",
       "      <td>reg. log.</td>\n",
       "      <td>0.787879</td>\n",
       "    </tr>\n",
       "  </tbody>\n",
       "</table>\n",
       "</div>"
      ],
      "text/plain": [
       "     Modelos  Acuracia\n",
       "0     arvore  0.830303\n",
       "1        knn  0.718182\n",
       "2  reg. log.  0.787879"
      ]
     },
     "execution_count": 257,
     "metadata": {},
     "output_type": "execute_result"
    }
   ],
   "source": [
    "# Criando primeiramente o DataFrame\n",
    "as_df = pd.DataFrame({\n",
    "     'Modelos': ['arvore','knn','reg. log.'],\n",
    "     'Acuracia': [acuracia_ac, acuracia_kmn, acuracia_rl]\n",
    " })\n",
    " \n",
    "as_df"
   ]
  },
  {
   "cell_type": "code",
   "execution_count": 258,
   "id": "95ef0c37-46f9-4f49-b5ec-40ba9fb29beb",
   "metadata": {},
   "outputs": [
    {
     "data": {
      "text/html": [
       "<div>\n",
       "<style scoped>\n",
       "    .dataframe tbody tr th:only-of-type {\n",
       "        vertical-align: middle;\n",
       "    }\n",
       "\n",
       "    .dataframe tbody tr th {\n",
       "        vertical-align: top;\n",
       "    }\n",
       "\n",
       "    .dataframe thead th {\n",
       "        text-align: right;\n",
       "    }\n",
       "</style>\n",
       "<table border=\"1\" class=\"dataframe\">\n",
       "  <thead>\n",
       "    <tr style=\"text-align: right;\">\n",
       "      <th></th>\n",
       "      <th>Modelos</th>\n",
       "      <th>Acuracia</th>\n",
       "    </tr>\n",
       "  </thead>\n",
       "  <tbody>\n",
       "    <tr>\n",
       "      <th>0</th>\n",
       "      <td>arvore</td>\n",
       "      <td>0.830303</td>\n",
       "    </tr>\n",
       "    <tr>\n",
       "      <th>1</th>\n",
       "      <td>knn</td>\n",
       "      <td>0.718182</td>\n",
       "    </tr>\n",
       "    <tr>\n",
       "      <th>2</th>\n",
       "      <td>reg. log.</td>\n",
       "      <td>0.787879</td>\n",
       "    </tr>\n",
       "  </tbody>\n",
       "</table>\n",
       "</div>"
      ],
      "text/plain": [
       "     Modelos  Acuracia\n",
       "0     arvore  0.830303\n",
       "1        knn  0.718182\n",
       "2  reg. log.  0.787879"
      ]
     },
     "execution_count": 258,
     "metadata": {},
     "output_type": "execute_result"
    }
   ],
   "source": [
    "# Visualizando\n",
    "as_df"
   ]
  },
  {
   "cell_type": "markdown",
   "id": "7074657e-16ea-443f-bc1b-79c5b2061083",
   "metadata": {},
   "source": [
    "#### É notório que o modelo de Árvore de decisão obteve uma acurácia melhor.\n",
    "#### Agora, iremos fazer as contatações finais."
   ]
  }
 ],
 "metadata": {
  "kernelspec": {
   "display_name": "Python 3 (ipykernel)",
   "language": "python",
   "name": "python3"
  },
  "language_info": {
   "codemirror_mode": {
    "name": "ipython",
    "version": 3
   },
   "file_extension": ".py",
   "mimetype": "text/x-python",
   "name": "python",
   "nbconvert_exporter": "python",
   "pygments_lexer": "ipython3",
   "version": "3.11.3"
  }
 },
 "nbformat": 4,
 "nbformat_minor": 5
}
